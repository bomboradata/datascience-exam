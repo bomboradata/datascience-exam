{
 "cells": [
  {
   "cell_type": "markdown",
   "metadata": {},
   "source": [
    "<div class=\"clearfix\" style=\"padding: 10px; padding-left: 0px\">\n",
    "<a href=\"http://bombora.com\"><img src=\"https://app.box.com/shared/static/e0j9v1xjmubit0inthhgv3llwnoansjp.png\" width=\"200px\" class=\"pull-right\" style=\"display: inline-block; margin: 5px; vertical-align: middle;\"></a>\n",
    "<h1> Bombora Data Science: <br> *Interview Exam* </h1>\n",
    "</div>\n",
    "\n",
    "<img width=\"200px\" src=\"https://app.box.com/shared/static/15slg1mvjd1zldbg3xkj9picjkmhzpa5.png\">"
   ]
  },
  {
   "cell_type": "markdown",
   "metadata": {},
   "source": [
    "---\n",
    "# Welcome\n",
    "\n",
    "Welcome! This notebook contains interview exam questions referenced in the *Instructions* section in the `README.md`—please read that first, *before* attempting to answer questions here.\n",
    "\n",
    "<div class=\"alert alert-info\" role=\"alert\" style=\"margin: 10px\">\n",
    "<p style=\"font-weight:bold\">ADVICE</p>\n",
    "<p>*Do not* read these questions, and panic, *before* reading the instructions in `README.md`.</p>\n",
    "</div>\n",
    "\n",
    "<div class=\"alert alert-warning\" role=\"alert\" style=\"margin: 10px\">\n",
    "<p style=\"font-weight:bold\">WARNING</p>\n",
    "\n",
    "<p>If using <a href=\"https://try.jupyter.org\">try.jupyter.org</a> do not rely on the server for anything you want to last - your server will be <span style=\"font-weight:bold\">deleted after 10 minutes of inactivity</span>. Save often and rember download notebook when you step away (you can always re-upload and start again)!</p>\n",
    "</div>\n",
    "\n",
    "\n",
    "## Have fun!\n",
    "\n",
    "Regardless of outcome, getting to know you is important. Give it your best shot and we'll look forward to following up!"
   ]
  },
  {
   "cell_type": "markdown",
   "metadata": {},
   "source": [
    "# Exam Questions"
   ]
  },
  {
   "cell_type": "markdown",
   "metadata": {},
   "source": [
    "## 1. Algo + Data Structures"
   ]
  },
  {
   "cell_type": "markdown",
   "metadata": {},
   "source": [
    "### Q 1.1: Fibionacci\n",
    "![fib image](https://upload.wikimedia.org/wikipedia/commons/thumb/9/93/Fibonacci_spiral_34.svg/200px-Fibonacci_spiral_34.svg.png)"
   ]
  },
  {
   "cell_type": "markdown",
   "metadata": {},
   "source": [
    "#### Q 1.1.1\n",
    "Given $n$ where $n \\in \\mathbb{N}$ (i.e., $n$ is an integer and $n > 0$), write a function `fibonacci(n)` that computes the Fibonacci number $F_n$, where $F_n$ is defined by the recurrence relation:\n",
    "\n",
    "$$ F_n = F_{n-1} + F_{n-2}$$\n",
    "\n",
    "with initial conditions of:\n",
    "\n",
    "$$ F_1 = 1,  F_2 = 1$$"
   ]
  },
  {
   "cell_type": "code",
   "execution_count": 9,
   "metadata": {
    "collapsed": true
   },
   "outputs": [],
   "source": [
    "def fibonacci(n): \n",
    "    \"\"\"\n",
    "    Fun fact: Fibonacci is actually a made-up name for Leonardo Bonacci, aka the Leonardo of Pisa. \n",
    "    \"\"\"\n",
    "    \n",
    "    if n == 1 or n==2: \n",
    "        return 1 \n",
    "    \n",
    "    if n < 1: \n",
    "        raise ValueError(\"Input value must be 1 or greater.\")\n",
    "    elif type(n) is not int: \n",
    "        raise TypeError(\"Input value must be an integer.\")\n",
    "    \n",
    "    i = 2\n",
    "    current = 1 \n",
    "    previous = 1 \n",
    "    \n",
    "    while i < n: \n",
    "        next_val = current+previous\n",
    "        previous = current \n",
    "        current = next_val \n",
    "        i += 1 \n",
    "    \n",
    "    return current \n",
    "    "
   ]
  },
  {
   "cell_type": "code",
   "execution_count": 5,
   "metadata": {},
   "outputs": [],
   "source": [
    "\"\"\"\n",
    "Test: fibonacci\n",
    "=> clearly, the function agrees with my hand calculations up to n=12\n",
    "\"\"\"\n",
    "assert fibonacci(1) == 1\n",
    "assert fibonacci(2) == 1 \n",
    "assert fibonacci(3) == 2 \n",
    "assert fibonacci(4) == 3 \n",
    "assert fibonacci(12) == 144"
   ]
  },
  {
   "cell_type": "code",
   "execution_count": 8,
   "metadata": {},
   "outputs": [
    {
     "ename": "ValueError",
     "evalue": "Input value must be 1 or greater.",
     "output_type": "error",
     "traceback": [
      "\u001b[0;31m---------------------------------------------------------------------------\u001b[0m",
      "\u001b[0;31mValueError\u001b[0m                                Traceback (most recent call last)",
      "\u001b[0;32m<ipython-input-8-ef8ccd7b926f>\u001b[0m in \u001b[0;36m<module>\u001b[0;34m()\u001b[0m\n\u001b[1;32m      2\u001b[0m \u001b[0mTest\u001b[0m\u001b[0;34m:\u001b[0m \u001b[0mfibonacci\u001b[0m \u001b[0merror\u001b[0m \u001b[0mraising\u001b[0m\u001b[0;34m\u001b[0m\u001b[0m\n\u001b[1;32m      3\u001b[0m \"\"\"\n\u001b[0;32m----> 4\u001b[0;31m \u001b[0mfibonacci\u001b[0m\u001b[0;34m(\u001b[0m\u001b[0;36m0\u001b[0m\u001b[0;34m)\u001b[0m\u001b[0;34m\u001b[0m\u001b[0m\n\u001b[0m",
      "\u001b[0;32m<ipython-input-7-f827f5d4f5eb>\u001b[0m in \u001b[0;36mfibonacci\u001b[0;34m(n)\u001b[0m\n\u001b[1;32m      8\u001b[0m \u001b[0;34m\u001b[0m\u001b[0m\n\u001b[1;32m      9\u001b[0m     \u001b[0;32mif\u001b[0m \u001b[0mn\u001b[0m \u001b[0;34m<\u001b[0m \u001b[0;36m1\u001b[0m\u001b[0;34m:\u001b[0m\u001b[0;34m\u001b[0m\u001b[0m\n\u001b[0;32m---> 10\u001b[0;31m         \u001b[0;32mraise\u001b[0m \u001b[0mValueError\u001b[0m\u001b[0;34m(\u001b[0m\u001b[0;34m\"Input value must be 1 or greater.\"\u001b[0m\u001b[0;34m)\u001b[0m\u001b[0;34m\u001b[0m\u001b[0m\n\u001b[0m\u001b[1;32m     11\u001b[0m \u001b[0;34m\u001b[0m\u001b[0m\n\u001b[1;32m     12\u001b[0m     \u001b[0mi\u001b[0m \u001b[0;34m=\u001b[0m \u001b[0;36m2\u001b[0m\u001b[0;34m\u001b[0m\u001b[0m\n",
      "\u001b[0;31mValueError\u001b[0m: Input value must be 1 or greater."
     ]
    }
   ],
   "source": [
    "\"\"\"\n",
    "Test: fibonacci ValueError raising. Function correctly raises errors for input less than 1. \n",
    "\"\"\"\n",
    "fibonacci(0)"
   ]
  },
  {
   "cell_type": "code",
   "execution_count": 10,
   "metadata": {},
   "outputs": [
    {
     "ename": "TypeError",
     "evalue": "Input value must be an integer.",
     "output_type": "error",
     "traceback": [
      "\u001b[0;31m---------------------------------------------------------------------------\u001b[0m",
      "\u001b[0;31mTypeError\u001b[0m                                 Traceback (most recent call last)",
      "\u001b[0;32m<ipython-input-10-51ba76af00ff>\u001b[0m in \u001b[0;36m<module>\u001b[0;34m()\u001b[0m\n\u001b[1;32m      2\u001b[0m \u001b[0mTest\u001b[0m\u001b[0;34m:\u001b[0m \u001b[0mfibonacci\u001b[0m \u001b[0mValueError\u001b[0m \u001b[0mraising\u001b[0m\u001b[0;34m.\u001b[0m \u001b[0mFunction\u001b[0m \u001b[0mcorrectly\u001b[0m \u001b[0mraises\u001b[0m \u001b[0merrors\u001b[0m \u001b[0;32mfor\u001b[0m \u001b[0minput\u001b[0m \u001b[0mless\u001b[0m \u001b[0mthan\u001b[0m \u001b[0;36m1.\u001b[0m\u001b[0;34m\u001b[0m\u001b[0m\n\u001b[1;32m      3\u001b[0m \"\"\"\n\u001b[0;32m----> 4\u001b[0;31m \u001b[0mfibonacci\u001b[0m\u001b[0;34m(\u001b[0m\u001b[0;36m1.2\u001b[0m\u001b[0;34m)\u001b[0m\u001b[0;34m\u001b[0m\u001b[0m\n\u001b[0m",
      "\u001b[0;32m<ipython-input-9-01204d135474>\u001b[0m in \u001b[0;36mfibonacci\u001b[0;34m(n)\u001b[0m\n\u001b[1;32m     10\u001b[0m         \u001b[0;32mraise\u001b[0m \u001b[0mValueError\u001b[0m\u001b[0;34m(\u001b[0m\u001b[0;34m\"Input value must be 1 or greater.\"\u001b[0m\u001b[0;34m)\u001b[0m\u001b[0;34m\u001b[0m\u001b[0m\n\u001b[1;32m     11\u001b[0m     \u001b[0;32melif\u001b[0m \u001b[0mtype\u001b[0m\u001b[0;34m(\u001b[0m\u001b[0mn\u001b[0m\u001b[0;34m)\u001b[0m \u001b[0;32mis\u001b[0m \u001b[0;32mnot\u001b[0m \u001b[0mint\u001b[0m\u001b[0;34m:\u001b[0m\u001b[0;34m\u001b[0m\u001b[0m\n\u001b[0;32m---> 12\u001b[0;31m         \u001b[0;32mraise\u001b[0m \u001b[0mTypeError\u001b[0m\u001b[0;34m(\u001b[0m\u001b[0;34m\"Input value must be an integer.\"\u001b[0m\u001b[0;34m)\u001b[0m\u001b[0;34m\u001b[0m\u001b[0m\n\u001b[0m\u001b[1;32m     13\u001b[0m \u001b[0;34m\u001b[0m\u001b[0m\n\u001b[1;32m     14\u001b[0m     \u001b[0mi\u001b[0m \u001b[0;34m=\u001b[0m \u001b[0;36m2\u001b[0m\u001b[0;34m\u001b[0m\u001b[0m\n",
      "\u001b[0;31mTypeError\u001b[0m: Input value must be an integer."
     ]
    }
   ],
   "source": [
    "\"\"\"\n",
    "Test: fibonacci TypeError raising. Function correctly raises errors for non-integer inputs. \n",
    "\"\"\"\n",
    "fibonacci(1.2)"
   ]
  },
  {
   "cell_type": "markdown",
   "metadata": {},
   "source": [
    "_________"
   ]
  },
  {
   "cell_type": "markdown",
   "metadata": {},
   "source": [
    "#### Q 1.1.2\n",
    "What's the complexity of your implementation?"
   ]
  },
  {
   "cell_type": "markdown",
   "metadata": {},
   "source": [
    "### The implementation is Linear. \n",
    "\n",
    "**Reasoning:** This is due to the fact that the while loop will be called **n-2** times. Within the loop, the arithematic is simple addition and resetting pointers, which are all constant time operations. "
   ]
  },
  {
   "cell_type": "markdown",
   "metadata": {},
   "source": [
    "_________"
   ]
  },
  {
   "cell_type": "markdown",
   "metadata": {},
   "source": [
    "#### Q 1.1.3\n",
    "Consider an alternative implementation to compute Fibonacci number $F_n$ and write a new function, `fibonacci2(n)`."
   ]
  },
  {
   "cell_type": "code",
   "execution_count": 77,
   "metadata": {},
   "outputs": [],
   "source": [
    "from sympy import *\n",
    "\n",
    "def fibonacci2(n): \n",
    "    \"\"\"\n",
    "    We directly calculate the nth fibonacci number. \n",
    "    \"\"\"\n",
    "    \n",
    "    if n < 1: \n",
    "        raise ValueError(\"Input value must be 1 or greater.\")\n",
    "    elif type(n) is not int: \n",
    "        raise TypeError(\"Input value must be an integer.\")\n",
    "        \n",
    "    root_5 = sqrt(5)\n",
    "    return simplify(pow((1 + root_5), n) - pow((1 - root_5), n) ) / (root_5 * pow(2, n)) "
   ]
  },
  {
   "cell_type": "code",
   "execution_count": 78,
   "metadata": {},
   "outputs": [
    {
     "name": "stdout",
     "output_type": "stream",
     "text": [
      "All Passed\n"
     ]
    }
   ],
   "source": [
    "assert fibonacci(1) == fibonacci2(1)\n",
    "assert fibonacci(2) == fibonacci2(2)\n",
    "assert fibonacci(30) == fibonacci2(30)\n",
    "assert fibonacci(100) == fibonacci2(100)\n",
    "assert fibonacci(1000) == fibonacci2(1000)\n",
    "print(\"All Passed\")"
   ]
  },
  {
   "cell_type": "markdown",
   "metadata": {},
   "source": [
    "___________"
   ]
  },
  {
   "cell_type": "markdown",
   "metadata": {},
   "source": [
    "#### Q 1.1.4\n",
    "What's the complexity of your implementation?"
   ]
  },
  {
   "cell_type": "markdown",
   "metadata": {},
   "source": [
    "### The implemention is O($nlogn$), with caveats. \n",
    "\n",
    "The limiting step here is calculating the power of 1+root_5 to n. A simple, classic **exponentiation by squaring is O($nlogn$)** (as there are around $logn$ squaring procedures and each squaring using the python pow function is O(n)). There are 3 exponentiation functions as well as a few basic arithmetic, which means the complexity is O($nlogn$). \n",
    "\n",
    "As seen below, in practice the first implementation is much, much faster. The is probably due to some overhead from sympy (which I used since sympy maintains the symbolic nature of the math. Using the regular math package will have rounding errors which causes the results of the direct calculation {approach 2} to deviate from the correct results).\n",
    "\n",
    "But, interestingly the math.pow functionality in python is O(1), but does this mean the fuzzy implementation will have O($logn$)? The evidence would suggest not, as it remains slower than the linear implementation in the time trial. "
   ]
  },
  {
   "cell_type": "code",
   "execution_count": 82,
   "metadata": {
    "collapsed": true
   },
   "outputs": [],
   "source": [
    "import math\n",
    "\n",
    "def fibonacci_fuzzy(n): \n",
    "    \"\"\"\n",
    "    We directly calculate the nth fibonacci number, but we use math.pow which will have rounding errors.\n",
    "    This implementation will not give us the correct answer, but it is simply to investigate running time. \n",
    "    \"\"\"\n",
    "    \n",
    "    if n < 1: \n",
    "        raise ValueError(\"Input value must be 1 or greater.\")\n",
    "    elif type(n) is not int: \n",
    "        raise TypeError(\"Input value must be an integer.\")\n",
    "        \n",
    "    root_5 = math.sqrt(5)\n",
    "    return (math.pow((1 + root_5), n) - math.pow((1 - root_5), n) ) / (root_5 * math.pow(2, n))"
   ]
  },
  {
   "cell_type": "code",
   "execution_count": 88,
   "metadata": {},
   "outputs": [
    {
     "name": "stdout",
     "output_type": "stream",
     "text": [
      "325 ns ± 1.21 ns per loop (mean ± std. dev. of 7 runs, 1000000 loops each)\n"
     ]
    }
   ],
   "source": [
    "%timeit fibonacci(100)"
   ]
  },
  {
   "cell_type": "code",
   "execution_count": 87,
   "metadata": {},
   "outputs": [
    {
     "name": "stdout",
     "output_type": "stream",
     "text": [
      "8.65 ms ± 282 µs per loop (mean ± std. dev. of 7 runs, 100 loops each)\n"
     ]
    }
   ],
   "source": [
    "%timeit fibonacci2(100)"
   ]
  },
  {
   "cell_type": "code",
   "execution_count": 86,
   "metadata": {},
   "outputs": [
    {
     "name": "stdout",
     "output_type": "stream",
     "text": [
      "855 ns ± 6.53 ns per loop (mean ± std. dev. of 7 runs, 1000000 loops each)\n"
     ]
    }
   ],
   "source": [
    "%timeit fibonacci_fuzzy(100)"
   ]
  },
  {
   "cell_type": "markdown",
   "metadata": {},
   "source": [
    "_______"
   ]
  },
  {
   "cell_type": "markdown",
   "metadata": {},
   "source": [
    "#### Q 1.1.5\n",
    "What are some examples of optimizations that could improve computational performance?\n"
   ]
  },
  {
   "cell_type": "markdown",
   "metadata": {},
   "source": [
    "1. Lookup Tables: maintain a dictionary for all existing results for fibonacci. For all n <= highest key in dictionary, the function would simply be a lookup which will be constant time. If n> highest key in dictionary, the function would start with the highest key, hence saving running time. \n",
    "2. "
   ]
  },
  {
   "cell_type": "markdown",
   "metadata": {},
   "source": [
    "### Q 1.2: Linked List\n",
    "![ll img](https://upload.wikimedia.org/wikipedia/commons/thumb/6/6d/Singly-linked-list.svg/500px-Singly-linked-list.svg.png)"
   ]
  },
  {
   "cell_type": "markdown",
   "metadata": {},
   "source": [
    "#### Q 1.2.1\n",
    "Consider a [singly linked list](https://en.wikipedia.org/wiki/Linked_list), $L$. Write a function `is_palindrome(L)` that detects if $L$ is a [palindrome](https://en.wikipedia.org/wiki/Palindrome), by returning a bool, `True` or `False`.\n"
   ]
  },
  {
   "cell_type": "markdown",
   "metadata": {},
   "source": [
    "#### Q 1.2.2\n",
    "What is the complexity of your implementation?"
   ]
  },
  {
   "cell_type": "markdown",
   "metadata": {},
   "source": [
    "#### Q 1.2.3\n",
    "Consider an alternative implementation to detect if L is a palindrome and write a new function, `is_palindrome2(L)`."
   ]
  },
  {
   "cell_type": "markdown",
   "metadata": {},
   "source": [
    "#### Q 1.2.4\n",
    "What's the complexity of this implementation?\n"
   ]
  },
  {
   "cell_type": "markdown",
   "metadata": {},
   "source": [
    "#### Q 1.2.5 \n",
    "What are some examples of optimizations that could improve computational performance?\n"
   ]
  },
  {
   "cell_type": "markdown",
   "metadata": {},
   "source": [
    "## 2. Prob + Stats"
   ]
  },
  {
   "cell_type": "markdown",
   "metadata": {},
   "source": [
    "### Q 2.1: Finding $\\pi$ in a random uniform?\n",
    "![pi pie img](http://core2.staticworld.net/images/article/2016/03/pi-day-intro-100649273-carousel.idge.jpeg)\n",
    "\n",
    "Given a uniform random generator $[0,1)$ (e.g., use your language's standard libary to generate random value), write a a function `compute_pi` to compute [$\\pi$](https://en.wikipedia.org/wiki/Pi)."
   ]
  },
  {
   "cell_type": "markdown",
   "metadata": {},
   "source": [
    "### Q 2.2: Making a 6-side die roll a 7?\n",
    "\n",
    "![reno die image](https://static.wixstatic.com/media/c76b87_bbdda332856f402fab1c9da22184f5ef~mv2_d_1866_1333_s_2.jpg/v1/fill/w_281,h_201,al_c,q_80,usm_0.66_1.00_0.01/c76b87_bbdda332856f402fab1c9da22184f5ef~mv2_d_1866_1333_s_2.jpg)\n",
    "\n",
    "Using a single 6-side die, how can you generate a random number between 1 - 7?"
   ]
  },
  {
   "cell_type": "markdown",
   "metadata": {},
   "source": [
    "### Get 7 options by Entering the 2.5th Dimension. \n",
    "\n",
    "As a dungeons and dragons fan, I never have enough dice. Sometimes, you simply must squeeze more options out of the limited dice you have. Follow the following procedure for rolling 7 uniform values from a 6 sided die. \n",
    "\n",
    "Step 1: row the die twice, record that number as X. \n",
    "Step 2a: If the X!=7, follow the following mapping: \n",
    "\n",
    "| X values | output |   \n",
    "|------|---|\n",
    "|  2, 5    |  1 |   \n",
    "|  3, 4   |  2 |   \n",
    "|   6   | 3  |  \n",
    "|   8   | 4  | \n",
    "|   9, 12   | 5  | \n",
    "|    10, 11  |  6 | \n",
    "\n",
    "Step 2b. If you get an X=7, roll again. Output 7 only if your new roll is not 1. If your new roll is 1, too bad, you must restart the process. \n",
    "Step 3: Enjoy your new 7 options die! \n",
    "\n",
    "_______\n",
    "\n",
    "- This method works by ensuring that all options have 5/36 chance of working. For example, the likelihood of a 2 is 1/36 and the likelihood of a 5 is 4/36. Hence, the likelihood of a 2 or a 5 is 5/36. \n",
    "- Since rolling a 7 has a likelihood of 6/36, you much decrease it with an indepent roll. Since the likelihood of not rolling a 1 is 5/6, we have (6/36)*(5/6) = 5/36, which is what we wanted. \n",
    "- There is a 1/36 chance of having to redo this process, but it is all worth it for not spending the money for a 7 sided die. "
   ]
  },
  {
   "cell_type": "code",
   "execution_count": 142,
   "metadata": {},
   "outputs": [],
   "source": [
    "\"\"\"\n",
    "Let's code this up for the fun of it. \n",
    "\"\"\"\n",
    "import numpy as np \n",
    "\n",
    "def seven_sided_die(): \n",
    "    roll_sum = sum(np.random.randint(1, 7, 2))\n",
    "    mapping = {\n",
    "        2:1, \n",
    "        5:1, \n",
    "        3:2, \n",
    "        4:2, \n",
    "        6:3, \n",
    "        8:4, \n",
    "        9:5, \n",
    "        12:5, \n",
    "        10:6, \n",
    "        11:6\n",
    "    }\n",
    "    \n",
    "    if roll_sum == 7: \n",
    "        if np.random.randint(1,7) != 1 : \n",
    "            return 7 \n",
    "        else: \n",
    "            return None \n",
    "    \n",
    "    return mapping[roll_sum]\n"
   ]
  },
  {
   "cell_type": "code",
   "execution_count": 147,
   "metadata": {},
   "outputs": [
    {
     "data": {
      "text/plain": [
       "(13793, 13825, 14023, 13810, 13884, 13846, 14054)"
      ]
     },
     "execution_count": 147,
     "metadata": {},
     "output_type": "execute_result"
    }
   ],
   "source": [
    "\"\"\"\n",
    "Let's test this out!\n",
    "\"\"\"\n",
    "n = 100000\n",
    "roll_array = []\n",
    "for i in range(n): \n",
    "    roll_array.append(seven_sided_die())\n",
    "\n",
    "roll_array.count(1), roll_array.count(2), roll_array.count(3), roll_array.count(4), roll_array.count(5), roll_array.count(6), roll_array.count(7)"
   ]
  },
  {
   "cell_type": "code",
   "execution_count": 149,
   "metadata": {},
   "outputs": [
    {
     "name": "stdout",
     "output_type": "stream",
     "text": [
      "97235 2765 -0.00012777777777777527\n"
     ]
    }
   ],
   "source": [
    "\"\"\"\n",
    "Let's see how the invalid roll percentage compares with 1/36. \n",
    "\"\"\"\n",
    "valid = sum([roll_array.count(1), roll_array.count(2), roll_array.count(3), roll_array.count(4), roll_array.count(5), roll_array.count(6), roll_array.count(7)])\n",
    "invalid = n - valid\n",
    "print(valid, invalid, invalid/n-1/36)"
   ]
  },
  {
   "cell_type": "markdown",
   "metadata": {},
   "source": [
    "### As you see here, the valid rolls between 1 and 7 have very similar counts out of 100 thousand rolls. This strongly implies uniform and that our method works. \n",
    "\n",
    "Additionally, we see that the invalid roll percentage is very close to 1/36 (within -0.00012777777777777527 in this current trial). Thus, this is also expected and further demonstrates the ratios set forth in the intial method description. \n",
    "______"
   ]
  },
  {
   "cell_type": "markdown",
   "metadata": {},
   "source": [
    "### Q 2.3: Is normality uniform?\n",
    "\n",
    "![normal and uniform distributions](https://qph.ec.quoracdn.net/main-qimg-f6ed71ed1d0059760fb63db384dcbcca-c)\n",
    "\n",
    "Given draws from a normal distribution with known parameters, how can you simulate draws from a uniform distribution?"
   ]
  },
  {
   "cell_type": "markdown",
   "metadata": {},
   "source": [
    "### Q 2.4: Should you pay or should you go?\n",
    "\n",
    "![coin flip](https://lh5.ggpht.com/iwD6MnHeHVAXNBgrO7r4N9MQxxYi6wT9vb0Mqu905zTnNlBciONAA98BqafyjzC06Q=w300)\n",
    "\n",
    "Let’s say we play a game where I keep flipping a coin until I get heads. If the first time I get heads is on the nth coin, then I pay you $2^{(n-1)}$ US dollars. How much would you pay me to play this game? Explain."
   ]
  },
  {
   "cell_type": "markdown",
   "metadata": {},
   "source": [
    "### Q 2.5: Uber vs. Lyft\n",
    "\n",
    "![uber vs lyft](http://usiaffinity.typepad.com/.a/6a01347fc1cb08970c01bb0876bcbe970d-pi)\n",
    "\n",
    "You request 2 UberX’s and 3 Lyfts. If the time that each takes to reach you is IID, what is the probability that all the Lyfts arrive first? What is the probability that all the UberX’s arrive first?"
   ]
  }
 ],
 "metadata": {
  "kernelspec": {
   "display_name": "Python 3",
   "language": "python",
   "name": "python3"
  },
  "language_info": {
   "codemirror_mode": {
    "name": "ipython",
    "version": 3
   },
   "file_extension": ".py",
   "mimetype": "text/x-python",
   "name": "python",
   "nbconvert_exporter": "python",
   "pygments_lexer": "ipython3",
   "version": "3.6.3"
  }
 },
 "nbformat": 4,
 "nbformat_minor": 1
}
