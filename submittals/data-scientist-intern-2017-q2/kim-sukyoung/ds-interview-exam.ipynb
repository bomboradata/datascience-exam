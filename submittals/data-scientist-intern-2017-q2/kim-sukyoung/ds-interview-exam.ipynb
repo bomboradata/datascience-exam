{
 "cells": [
  {
   "cell_type": "markdown",
   "metadata": {
    "deletable": true,
    "editable": true
   },
   "source": [
    "<div class=\"clearfix\" style=\"padding: 10px; padding-left: 0px\">\n",
    "\n",
    "<p>\n",
    "<a href=\"http://bombora.com\"><img src=\"https://app.box.com/shared/static/e0j9v1xjmubit0inthhgv3llwnoansjp.png\" width=\"200px\" class=\"pull-right\" style=\"display: inline-block; margin: 5px; vertical-align: middle;\"></a>\n",
    "<h1> Bombora Data Science: <br> *Interview Exam* </h1>\n",
    "</div>\n",
    "<img width=\"200px\" src=https://app.box.com/shared/static/15slg1mvjd1zldbg3xkj9picjkmhzpa5.png >\n",
    "\n",
    "---"
   ]
  },
  {
   "cell_type": "markdown",
   "metadata": {
    "deletable": true,
    "editable": true
   },
   "source": [
    "# Welcome\n",
    "\n",
    "Welcome! This notebook contains interview exam questions referenced in the *Instructions* section in the `README.md`—please read that first, *before* attempting to answer questions here.\n",
    "\n",
    "<div class=\"alert alert-info\" role=\"alert\" style=\"margin: 10px\">\n",
    "<p>**ADVICE**</p>\n",
    "<p>*Do not* read these questions, and panic, *before* reading the instructions in `README.md`.</p>\n",
    "</div>\n",
    "\n",
    "<div class=\"alert alert-warning\" role=\"alert\" style=\"margin: 10px\">\n",
    "<p>**WARNING**</p>\n",
    "\n",
    "<p>If using [try.jupyter.org](https://try.jupyter.org) do not rely on the server for anything you want to last - your server will be *deleted after 10 minutes of inactivity*. Save often and rember download notebook when you step away (you can always re-upload and start again)!</p>\n",
    "</div>\n",
    "\n",
    "\n",
    "## Have fun!\n",
    "\n",
    "Regardless of outcome, getting to know you is important. Give it your best shot and we'll look forward to following up!"
   ]
  },
  {
   "cell_type": "markdown",
   "metadata": {
    "deletable": true,
    "editable": true
   },
   "source": [
    "# Exam Questions"
   ]
  },
  {
   "cell_type": "markdown",
   "metadata": {
    "deletable": true,
    "editable": true
   },
   "source": [
    "## 1. Algo + Data Structures"
   ]
  },
  {
   "cell_type": "markdown",
   "metadata": {
    "deletable": true,
    "editable": true
   },
   "source": [
    "### Q 1.1: Fibionacci\n",
    "![fib image](https://upload.wikimedia.org/wikipedia/commons/thumb/9/93/Fibonacci_spiral_34.svg/200px-Fibonacci_spiral_34.svg.png)"
   ]
  },
  {
   "cell_type": "markdown",
   "metadata": {
    "deletable": true,
    "editable": true
   },
   "source": [
    "#### Q 1.1.1\n",
    "Given $n$ where $n \\in \\mathbb{N}$ (i.e., $n$ is an integer and $n > 0$), write a function `fibonacci(n)` that computes the Fibonacci number $F_n$, where $F_n$ is defined by the recurrence relation:\n",
    "\n",
    "$$ F_n = F_{n-1} + F_{n-2}$$\n",
    "\n",
    "with initial conditions of:\n",
    "\n",
    "$$ F_1 = 1,  F_2 = 1$$"
   ]
  },
  {
   "cell_type": "markdown",
   "metadata": {
    "deletable": true,
    "editable": true
   },
   "source": [
    "#### Q 1.1.2\n",
    "What's the complexity of your implementation?"
   ]
  },
  {
   "cell_type": "markdown",
   "metadata": {
    "deletable": true,
    "editable": true
   },
   "source": [
    "#### Q 1.1.3\n",
    "Consider an alternative implementation to compute Fibonacci number $F_n$ and write a new function, `fibonacci2(n)`."
   ]
  },
  {
   "cell_type": "markdown",
   "metadata": {
    "deletable": true,
    "editable": true
   },
   "source": [
    "#### Q 1.1.4\n",
    "What's the complexity of your implementation?"
   ]
  },
  {
   "cell_type": "markdown",
   "metadata": {
    "deletable": true,
    "editable": true
   },
   "source": [
    "#### Q 1.1.5\n",
    "What are some examples of optimizations that could improve computational performance?\n"
   ]
  },
  {
   "cell_type": "markdown",
   "metadata": {
    "deletable": true,
    "editable": true
   },
   "source": [
    "### Q 1.2: Linked List\n",
    "![ll img](https://upload.wikimedia.org/wikipedia/commons/thumb/6/6d/Singly-linked-list.svg/500px-Singly-linked-list.svg.png)"
   ]
  },
  {
   "cell_type": "markdown",
   "metadata": {
    "deletable": true,
    "editable": true
   },
   "source": [
    "#### Q 1.2.1\n",
    "Consider a [singly linked list](https://en.wikipedia.org/wiki/Linked_list), $L$. Write a function `is_palindrome(L)` that detects if $L$ is a [palindrome](https://en.wikipedia.org/wiki/Palindrome), by returning a bool, `True` or `False`.\n"
   ]
  },
  {
   "cell_type": "code",
   "execution_count": null,
   "metadata": {
    "collapsed": true
   },
   "outputs": [],
   "source": [
    "class Node:\n",
    "    def __init__(self, item):\n",
    "        self.val = item\n",
    "        self.next = None\n",
    "\n",
    "class LinkedList:\n",
    "    def __init__(self, item):\n",
    "        self.head = Node(item)\n",
    "\n",
    "    def getHead(self):\n",
    "        return self.head\n",
    "\n",
    "    def add(self, item):\n",
    "        cur = self.head\n",
    "        while cur.next is not None:\n",
    "            cur = cur.next\n",
    "        cur.next = Node(item)\n",
    "\n",
    "    def reverse(self):\n",
    "        prev = None\n",
    "        cur = self.head\n",
    "        while cur is not None:\n",
    "            next = cur.next\n",
    "            cur.next = prev\n",
    "            prev = cur\n",
    "            cur = next\n",
    "        self.head = prev\n",
    "\n",
    "    def printlist(self):\n",
    "        cur = self.head\n",
    "        re = []\n",
    "        while cur is not None:\n",
    "            re.append(cur.val)\n",
    "            cur = cur.next\n",
    "        return str(re)\n",
    "\n",
    "\n",
    "def is_palindrome(list):\n",
    "    before = list.printlist()\n",
    "    list.reverse()\n",
    "    after = list.printlist()\n",
    "    if before == after:\n",
    "        return True\n",
    "    else:\n",
    "        return False\n",
    "\n",
    "#test main\n",
    "list1 = LinkedList(5)\n",
    "list1.add(3)\n",
    "list1.add(12)\n",
    "list1.add(3)\n",
    "list1.add(5)\n",
    "print (is_palindrome(list1))\n",
    "print (\"\")\n",
    "\n",
    "list2 = LinkedList(1)\n",
    "list2.add(9)\n",
    "list2.add(4)\n",
    "list2.add(1)\n",
    "print (is_palindrome(list2))\n",
    "print (\"\")\n",
    "\n"
   ]
  },
  {
   "cell_type": "markdown",
   "metadata": {
    "deletable": true,
    "editable": true
   },
   "source": [
    "#### Q 1.2.2\n",
    "What is the complexity of your implementation?"
   ]
  },
  {
   "cell_type": "markdown",
   "metadata": {
    "collapsed": true
   },
   "source": [
    "Answer: The complexity of the implementation above would be O(n) since there is a single while loop to reverse the single linked list (which is in the printlist function)."
   ]
  },
  {
   "cell_type": "markdown",
   "metadata": {
    "deletable": true,
    "editable": true
   },
   "source": [
    "#### Q 1.2.3\n",
    "Consider an alternative implementation to detect if L is a palindrome and write a new function, `is_palindrome2(L)`."
   ]
  },
  {
   "cell_type": "code",
   "execution_count": 1,
   "metadata": {
    "collapsed": false
   },
   "outputs": [
    {
     "name": "stdout",
     "output_type": "stream",
     "text": [
      "592295\n",
      "True\n",
      "\n",
      "73217\n",
      "False\n",
      "\n",
      "345\n",
      "False\n",
      "\n"
     ]
    }
   ],
   "source": [
    "class Node:\n",
    "    def __init__(self, data):\n",
    "        self.data = data\n",
    "        self.next = None\n",
    "\n",
    "\n",
    "class LinkedList:\n",
    "    def __init__(self):\n",
    "        self.head = None\n",
    "\n",
    "    def add(self, data):\n",
    "        new_head = Node(data)\n",
    "        new_head.next = self.head\n",
    "        self.head = new_head\n",
    "        \n",
    "\n",
    "    def printlist(self):\n",
    "        output = ''\n",
    "        curr_node = self.head\n",
    "        while curr_node != None:\n",
    "            output += str(curr_node.data)\n",
    "            curr_node = curr_node.next\n",
    "        print (output)\n",
    "\n",
    "\n",
    "def sub_palindrome(sub_head, length):\n",
    "\tif length == 0:\n",
    "\t\treturn (True, sub_head)\n",
    "\tif length == 1:\n",
    "\t\treturn (True, sub_head.next)\n",
    "\t(sub_is, sub_tail) = sub_palindrome(sub_head.next, length - 2)\n",
    "\treturn (sub_is and sub_head.data == sub_tail.data, sub_tail.next)\n",
    "\n",
    "def is_palindrome2(linked_list):\n",
    "\tlength = 0\n",
    "\titer_node = linked_list.head\n",
    "\twhile iter_node:\n",
    "\t\tlength += 1\n",
    "\t\titer_node = iter_node.next\n",
    "\treturn sub_palindrome(linked_list.head, length)[0]\n",
    "\n",
    "\n",
    "list1 = LinkedList()\n",
    "list1.add(5)\n",
    "list1.add(9)\n",
    "list1.add(2)\n",
    "list1.add(2)\n",
    "list1.add(9)\n",
    "list1.add(5)\n",
    "list1.printlist()\n",
    "print (is_palindrome2(list1))\n",
    "print (\"\")\n",
    "\n",
    "\n",
    "list2 = LinkedList()\n",
    "list2.add(7)\n",
    "list2.add(1)\n",
    "list2.add(2)\n",
    "list2.add(3)\n",
    "list2.add(7)\n",
    "list2.printlist()\n",
    "print (is_palindrome2(list2))\n",
    "print (\"\")\n",
    "\n",
    "list3 = LinkedList()\n",
    "list3.add(5)\n",
    "list3.add(4)\n",
    "list3.add(3)\n",
    "list3.printlist()\n",
    "print (is_palindrome2(list3))\n",
    "print (\"\")\n"
   ]
  },
  {
   "cell_type": "markdown",
   "metadata": {
    "deletable": true,
    "editable": true
   },
   "source": [
    "#### Q 1.2.4\n",
    "What's the complexity of this implementation?\n"
   ]
  },
  {
   "cell_type": "markdown",
   "metadata": {
    "collapsed": true
   },
   "source": [
    "Complexity for this recursive function is still O(n) for both getting the length of the linked list and making recursive calls.\n"
   ]
  },
  {
   "cell_type": "markdown",
   "metadata": {
    "deletable": true,
    "editable": true
   },
   "source": [
    "#### Q 1.2.5 \n",
    "What are some examples of optimizations that could improve computational performance?\n"
   ]
  },
  {
   "cell_type": "markdown",
   "metadata": {
    "collapsed": true
   },
   "source": [
    "1.Profiling\n",
    "    - Utilize Python’s profile module to determine the bottleneck in the code. It is used to get an analysis of how often or how long it gets used. \n",
    "    \n",
    "    \n",
    "Answer: \n",
    "There are many techniques to optimize our code and improve performance of our codes. The following are several example of those especially for Python3"
   ]
  },
  {
   "cell_type": "code",
   "execution_count": null,
   "metadata": {
    "collapsed": true
   },
   "outputs": [],
   "source": [
    "import profile\t\n",
    "profile.run(‘functionx()’)\n",
    "\t\t\n",
    "#it will print a table of function calls corresponding to the execution times and the speed will be faster than the normal way\n"
   ]
  },
  {
   "cell_type": "markdown",
   "metadata": {
    "collapsed": true
   },
   "source": [
    "2. Utilize built-in functions\n",
    "    - though we can write our own functions, it’s usually slower than using built-in functions \n"
   ]
  },
  {
   "cell_type": "code",
   "execution_count": null,
   "metadata": {
    "collapsed": true
   },
   "outputs": [],
   "source": [
    "print()\n",
    "input()\n",
    "iter()\n",
    "property()  #etc.."
   ]
  },
  {
   "cell_type": "markdown",
   "metadata": {
    "collapsed": true
   },
   "source": [
    "3. Avoid using Global variables\n",
    "    - Its faster to use local variables instead of global variables \n"
   ]
  },
  {
   "cell_type": "markdown",
   "metadata": {
    "collapsed": true
   },
   "source": [
    "4. Loop Optimization\n",
    "    - Since loops require a lot of effort, we could improve it by using built-in constructs like Maps \n",
    "\t"
   ]
  },
  {
   "cell_type": "code",
   "execution_count": null,
   "metadata": {
    "collapsed": true
   },
   "outputs": [],
   "source": [
    "#1\n",
    "newGrades =[]\n",
    "for grade in oldGrades:\n",
    "\tnewGrades.append(oldGrades.strip())\n",
    "#2 using map object\n",
    "newGrades =map(str.strip, oldGrades)\n",
    "#3 use list comprehension\n",
    "Grades += [iter.strip() for tier in newGrades]\n",
    "#4 use generator expression\n",
    "itertools.chain(NewGrades, iter.strip() for tier in newGrades)\n"
   ]
  },
  {
   "cell_type": "markdown",
   "metadata": {
    "collapsed": true
   },
   "source": [
    "5. Set Operations\n",
    "    - has tables are used to manage sets in Python. When an element is added, it determines the position in memory of the set using the has of the target element. The automatic resizing of the hash table makes the complexity O(1) which allows to perform faster.\n",
    "\n"
   ]
  },
  {
   "cell_type": "code",
   "execution_count": null,
   "metadata": {
    "collapsed": true
   },
   "outputs": [],
   "source": [
    "#instead of :\n",
    "\t\t\n",
    "for a in x:\n",
    "\tfor b in y:\n",
    "        if x==y :\n",
    "\t\t\tyield (x,y)\n",
    "#do:\n",
    "\n",
    "return set(a) & set(b)    #-> union\n"
   ]
  },
  {
   "cell_type": "markdown",
   "metadata": {
    "collapsed": true
   },
   "source": [
    "6. Import Statement Overhead\n",
    "    - though import statements could be written anywhere, placing them within the function will hide their visibility which will shorten the startup time. \n"
   ]
  },
  {
   "cell_type": "code",
   "execution_count": null,
   "metadata": {
    "collapsed": true
   },
   "outputs": [],
   "source": [
    "#instead of:\n",
    "import string\n",
    "def myFunction():\t\n",
    "\tstring.upper(“abc”)\n",
    "\t\t\n",
    "#do:\n",
    "\t\t\t\n",
    "def myFunction():\t\n",
    "\timport string\t\n",
    "\t\tstring.upper(“abc”)"
   ]
  },
  {
   "cell_type": "markdown",
   "metadata": {
    "collapsed": true
   },
   "source": [
    "7. Use try/except rather than if/else statements\n",
    "\t\t- It is cheaper to use the try/except statements if there are numerous situations where if statement will fail. \n"
   ]
  },
  {
   "cell_type": "code",
   "execution_count": null,
   "metadata": {
    "collapsed": true
   },
   "outputs": [],
   "source": [
    "\n",
    "#instead of:\n",
    "if a==b:\n",
    "\tdoThis()\n",
    "else:\n",
    "\tdoThat()\n",
    "\t\t\n",
    "#do:\n",
    "try:\n",
    "\tdoThat()\n",
    "except a==b:\n",
    "\tdoThis()"
   ]
  },
  {
   "cell_type": "markdown",
   "metadata": {
    "collapsed": true
   },
   "source": [
    "8. Use Generators\n",
    "    - especially when working with big list numerals or sum of them, generators could save a lot of memory and improve performance since they can create functions that can return one item at a time instead of returning all at once \n"
   ]
  },
  {
   "cell_type": "code",
   "execution_count": null,
   "metadata": {
    "collapsed": true
   },
   "outputs": [],
   "source": [
    "chunk = (2000*i for i in xrange(2000))\n",
    "chunk\n",
    "chunk.next()\n",
    "chunk.next()\n",
    "chunk.next()"
   ]
  },
  {
   "cell_type": "markdown",
   "metadata": {
    "deletable": true,
    "editable": true
   },
   "source": [
    "## 2. Prob + Stats"
   ]
  },
  {
   "cell_type": "markdown",
   "metadata": {
    "deletable": true,
    "editable": true
   },
   "source": [
    "### Q 2.1: Finding $\\pi$ in a random uniform?\n",
    "![pi pie img](http://core2.staticworld.net/images/article/2016/03/pi-day-intro-100649273-carousel.idge.jpeg)\n",
    "\n",
    "Given a uniform random generator $[0,1)$ (e.g., use your language's standard libary to generate random value), write a a function `compute_pi` to compute [$\\pi$](https://en.wikipedia.org/wiki/Pi)."
   ]
  },
  {
   "cell_type": "markdown",
   "metadata": {
    "deletable": true,
    "editable": true
   },
   "source": [
    "### Q 2.2: Making a 6-side die roll a 7?\n",
    "\n",
    "![reno die image](http://thumbs.ebaystatic.com/images/g/IQ8AAOSwvzRXyagD/s-l225.jpg)\n",
    "\n",
    "Using a single 6-side die, how can you generate a random number between 1 - 7?"
   ]
  },
  {
   "cell_type": "markdown",
   "metadata": {},
   "source": [
    "Answer: \n",
    "\n",
    "Using a single 6-side die, how can you generate a random number between 1 - 7?\n",
    "\n",
    "\n",
    "First, roll the 6-sided dice twice which would generate 36 outcomes. \n",
    "(a = first roll, b= second roll)\n",
    "(1,1), (1,2), (1,3), …, (6,1), … (6,6)\n",
    "\n",
    "Roll the dice until the outcome is not (6,6). There will be 35 outcomes that are equally probable. \n",
    "\n",
    "Multiply first roll by 6 and add the second roll. Then divide the value by 7. \n",
    "n = (6a+b)%7 \n",
    "This will generate 7 equally probable outcomes for the remainder-  from 0 (when n is divisible by 7) to 6. \n",
    "\n",
    "Finally, since we want to generate random numbers between 1 and 7, add 1 to the 7 outcomes (0,1,2,3,4,5,6) from above.\n",
    "\n",
    "In conclusion, it would be\n",
    "n = (6a+b)%7 +1 \n",
    "\n"
   ]
  },
  {
   "cell_type": "markdown",
   "metadata": {
    "deletable": true,
    "editable": true
   },
   "source": [
    "### Q 2.3: Is normality uniform?\n",
    "\n",
    "![normal and uniform distributions](https://qph.ec.quoracdn.net/main-qimg-f6ed71ed1d0059760fb63db384dcbcca-c)\n",
    "\n",
    "Given draws from a normal distribution with known parameters, how can you simulate draws from a uniform distribution?"
   ]
  },
  {
   "cell_type": "markdown",
   "metadata": {
    "deletable": true,
    "editable": true
   },
   "source": [
    "### Q 2.4: Should you pay or should you go?\n",
    "\n",
    "![coin flip](https://lh5.ggpht.com/iwD6MnHeHVAXNBgrO7r4N9MQxxYi6wT9vb0Mqu905zTnNlBciONAA98BqafyjzC06Q=w300)\n",
    "\n",
    "Let’s say we play a game where I keep flipping a coin until I get heads. If the first time I get heads is on the nth coin, then I pay you $2^{(n-1)}$ US dollars. How much would you pay me to play this game? Explain."
   ]
  },
  {
   "cell_type": "markdown",
   "metadata": {
    "deletable": true,
    "editable": true
   },
   "source": [
    "### Q 2.5: Uber vs. Lyft\n",
    "\n",
    "![uber vs lyft](http://usiaffinity.typepad.com/.a/6a01347fc1cb08970c01bb0876bcbe970d-pi)\n",
    "\n",
    "You request 2 UberX’s and 3 Lyfts. If the time that each takes to reach you is IID, what is the probability that all the Lyfts arrive first? What is the probability that all the UberX’s arrive first?"
   ]
  }
 ],
 "metadata": {
  "kernelspec": {
   "display_name": "Python 3",
   "language": "python",
   "name": "python3"
  },
  "language_info": {
   "codemirror_mode": {
    "name": "ipython",
    "version": 3
   },
   "file_extension": ".py",
   "mimetype": "text/x-python",
   "name": "python",
   "nbconvert_exporter": "python",
   "pygments_lexer": "ipython3",
   "version": "3.5.2"
  }
 },
 "nbformat": 4,
 "nbformat_minor": 0
}
