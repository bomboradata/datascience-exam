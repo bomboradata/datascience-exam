{
 "cells": [
  {
   "cell_type": "markdown",
   "metadata": {},
   "source": [
    "<div class=\"clearfix\" style=\"padding: 10px; padding-left: 0px\">\n",
    "<a href=\"http://bombora.com\"><img src=\"https://app.box.com/shared/static/e0j9v1xjmubit0inthhgv3llwnoansjp.png\" width=\"200px\" class=\"pull-right\" style=\"display: inline-block; margin: 5px; vertical-align: middle;\"></a>\n",
    "<h1> Bombora Data Science: <br> *Interview Exam* </h1>\n",
    "</div>\n",
    "\n",
    "<img width=\"200px\" src=\"https://app.box.com/shared/static/15slg1mvjd1zldbg3xkj9picjkmhzpa5.png\">"
   ]
  },
  {
   "cell_type": "markdown",
   "metadata": {},
   "source": [
    "---\n",
    "# Welcome\n",
    "\n",
    "Welcome! This notebook contains interview exam questions referenced in the *Instructions* section in the `README.md`—please read that first, *before* attempting to answer questions here.\n",
    "\n",
    "<div class=\"alert alert-info\" role=\"alert\" style=\"margin: 10px\">\n",
    "<p style=\"font-weight:bold\">ADVICE</p>\n",
    "<p>*Do not* read these questions, and panic, *before* reading the instructions in `README.md`.</p>\n",
    "</div>\n",
    "\n",
    "<div class=\"alert alert-warning\" role=\"alert\" style=\"margin: 10px\">\n",
    "<p style=\"font-weight:bold\">WARNING</p>\n",
    "\n",
    "<p>If using <a href=\"https://try.jupyter.org\">try.jupyter.org</a> do not rely on the server for anything you want to last - your server will be <span style=\"font-weight:bold\">deleted after 10 minutes of inactivity</span>. Save often and rember download notebook when you step away (you can always re-upload and start again)!</p>\n",
    "</div>\n",
    "\n",
    "\n",
    "## Have fun!\n",
    "\n",
    "Regardless of outcome, getting to know you is important. Give it your best shot and we'll look forward to following up!"
   ]
  },
  {
   "cell_type": "markdown",
   "metadata": {},
   "source": [
    "# Exam Questions"
   ]
  },
  {
   "cell_type": "markdown",
   "metadata": {},
   "source": [
    "## 1. Algo + Data Structures"
   ]
  },
  {
   "cell_type": "markdown",
   "metadata": {},
   "source": [
    "### Q 1.1: Fibonacci\n",
    "![fib image](https://upload.wikimedia.org/wikipedia/commons/thumb/9/93/Fibonacci_spiral_34.svg/200px-Fibonacci_spiral_34.svg.png)"
   ]
  },
  {
   "cell_type": "code",
   "execution_count": 1,
   "metadata": {},
   "outputs": [],
   "source": [
    "import timeit\n",
    "\n",
    "def testFn(fn, vrange, trange, tnumber):\n",
    "    \n",
    "    print('Evaluating function: ', fn)\n",
    "    \n",
    "    def verify_results(fn, vrange):\n",
    "        results = []\n",
    "        for i in range(1, vrange+1): results.append(fn(i))\n",
    "        return results\n",
    "    print('\\nResults for 1 to', vrange, ':', verify_results(fn, vrange))\n",
    "    \n",
    "    print('Performance for results verification:', \\\n",
    "          timeit.timeit(stmt=lambda: verify_results(fn, vrange), setup='pass', number=tnumber))\n",
    "\n",
    "    print('\\nResult for large number (', trange, '):', fn(trange))\n",
    "    print('Performance for large number (', trange, '):', \\\n",
    "          timeit.timeit(stmt=lambda: fn(trange), setup='pass', number=tnumber))\n",
    "          \n",
    "    return True"
   ]
  },
  {
   "cell_type": "markdown",
   "metadata": {},
   "source": [
    "#### Q 1.1.1\n",
    "Given $n$ where $n \\in \\mathbb{N}$ (i.e., $n$ is an integer and $n > 0$), write a function `fibonacci(n)` that computes the Fibonacci number $F_n$, where $F_n$ is defined by the recurrence relation:\n",
    "\n",
    "$$ F_n = F_{n-1} + F_{n-2}$$\n",
    "\n",
    "with initial conditions of:\n",
    "\n",
    "$$ F_1 = 1,  F_2 = 1$$"
   ]
  },
  {
   "cell_type": "markdown",
   "metadata": {},
   "source": [
    "#### Ans 1.1.1"
   ]
  },
  {
   "cell_type": "code",
   "execution_count": 2,
   "metadata": {},
   "outputs": [
    {
     "name": "stdout",
     "output_type": "stream",
     "text": [
      "Evaluating function:  <function fibonacci at 0x108962950>\n",
      "\n",
      "Results for 1 to 10 : [1, 1, 2, 3, 5, 8, 13, 21, 34, 55]\n",
      "Performance for results verification: 2.183919565010001\n",
      "\n",
      "Result for large number ( 100 ): 354224848179261915075\n",
      "Performance for large number ( 100 ): 2.193723983989912\n"
     ]
    },
    {
     "data": {
      "text/plain": [
       "True"
      ]
     },
     "execution_count": 2,
     "metadata": {},
     "output_type": "execute_result"
    }
   ],
   "source": [
    "# Original approach\n",
    "def fibonacci(n):\n",
    "    f, f1, f2 = 1, 1, 1\n",
    "    for _ in range(2, n):\n",
    "        f = f1 + f2\n",
    "        f2 = f1\n",
    "        f1 = f   \n",
    "    return f\n",
    "\n",
    "testFn(fibonacci, 10, 100, 100000)"
   ]
  },
  {
   "cell_type": "markdown",
   "metadata": {},
   "source": [
    "#### Q 1.1.2\n",
    "What's the complexity of your implementation?"
   ]
  },
  {
   "cell_type": "markdown",
   "metadata": {},
   "source": [
    "#### Ans 1.1.2\n",
    "Complexity of first implementation: $O(n)$, since the loop gets executed n-2 times each run"
   ]
  },
  {
   "cell_type": "markdown",
   "metadata": {},
   "source": [
    "#### Q 1.1.3\n",
    "Consider an alternative implementation to compute Fibonacci number $F_n$ and write a new function, `fibonacci2(n)`."
   ]
  },
  {
   "cell_type": "markdown",
   "metadata": {},
   "source": [
    "#### Ans 1.1.3"
   ]
  },
  {
   "cell_type": "code",
   "execution_count": null,
   "metadata": {},
   "outputs": [
    {
     "name": "stdout",
     "output_type": "stream",
     "text": [
      "Evaluating function:  <function fibonacciR at 0x110a542f0>\n",
      "\n",
      "Results for 1 to 10 : [1, 1, 2, 3, 5, 8, 13, 21, 34]\n",
      "Performance for results verification: 0.0057429599983152\n"
     ]
    }
   ],
   "source": [
    "# Recursion\n",
    "def fibonacciR(n):\n",
    "    if n in (1,2): return 1   \n",
    "    return fibonacciR(n-1) + fibonacciR(n-2)\n",
    "\n",
    "testFn(fibonacciR, 10, 25, 100)\n",
    "# Can not determine performance for large number even at low iterations due to exponential run time"
   ]
  },
  {
   "cell_type": "code",
   "execution_count": 3,
   "metadata": {},
   "outputs": [
    {
     "name": "stdout",
     "output_type": "stream",
     "text": [
      "Evaluating function:  <function fibonacciM at 0x108962f28>\n",
      "\n",
      "Results for 1 to 10 : [1, 1, 2, 3, 5, 8, 13, 21, 34, 55]\n",
      "Performance for results verification: 0.7280178329965565\n",
      "\n",
      "Result for large number ( 100 ): 354224848179261915075\n",
      "Performance for large number ( 100 ): 0.17864992799877655\n"
     ]
    },
    {
     "data": {
      "text/plain": [
       "True"
      ]
     },
     "execution_count": 3,
     "metadata": {},
     "output_type": "execute_result"
    }
   ],
   "source": [
    "# Memoization\n",
    "memo = {1:1, 2:1}\n",
    "def fibonacciM(n):\n",
    "    if n in memo: return memo[n]\n",
    "    f = fibonacciM(n-1) + fibonacciM(n-2)\n",
    "    memo[n] = f\n",
    "    return f\n",
    "\n",
    "testFn(fibonacciM, 10, 100, 100000)"
   ]
  },
  {
   "cell_type": "code",
   "execution_count": 4,
   "metadata": {},
   "outputs": [
    {
     "name": "stdout",
     "output_type": "stream",
     "text": [
      "Evaluating function:  <function fibonacciT at 0x108962d08>\n",
      "\n",
      "Results for 1 to 10 : [1, 1, 2, 3, 5, 8, 13, 21, 34, 55]\n",
      "Performance for results verification: 3.217469524999615\n",
      "\n",
      "Result for large number ( 100 ): 354224848179261915075\n",
      "Performance for large number ( 100 ): 4.3041163430025335\n"
     ]
    },
    {
     "data": {
      "text/plain": [
       "True"
      ]
     },
     "execution_count": 4,
     "metadata": {},
     "output_type": "execute_result"
    }
   ],
   "source": [
    "# Tabulation\n",
    "def fibonacciT(n):\n",
    "    fib_results = [1,1]\n",
    "    while len(fib_results) < n:\n",
    "        fib_results.append(fib_results[-1] + fib_results[-2])\n",
    "    return fib_results[n-1]\n",
    "\n",
    "testFn(fibonacciT, 10, 100, 100000) "
   ]
  },
  {
   "cell_type": "markdown",
   "metadata": {},
   "source": [
    "#### Q 1.1.4\n",
    "What's the complexity of your implementation?"
   ]
  },
  {
   "cell_type": "markdown",
   "metadata": {},
   "source": [
    "#### Ans 1.1.4\n",
    "\n",
    "Complexity for each of the alternate implementations is as below.\n",
    "\n",
    "Recursion: $\\Omega(2^{\\frac{n}{2}})$\n",
    "\n",
    "Memoization: $O(n)$\n",
    "\n",
    "Tabulation: $O(n)$"
   ]
  },
  {
   "cell_type": "markdown",
   "metadata": {},
   "source": [
    "#### Q 1.1.5\n",
    "What are some examples of optimizations that could improve computational performance?\n"
   ]
  },
  {
   "cell_type": "markdown",
   "metadata": {},
   "source": [
    "#### Ans 1.1.5\n",
    "Examples of optimizations involve dynamic programming concepts as implemented above. Recursion performs worse than the original approach, as its complexity suggests and hence is not optimal. Memoization does provide good results but has more space requirements, as does Tabulation, which also is performing decent but not at par with original approach. An alternate is to implement fibonacci using matrix multiplication which would also have linear complexity, and can be further improved to $O(logn)$ complexity using dynamic programming."
   ]
  },
  {
   "cell_type": "markdown",
   "metadata": {},
   "source": [
    "### Q 1.2: Linked List\n",
    "![ll img](https://upload.wikimedia.org/wikipedia/commons/thumb/6/6d/Singly-linked-list.svg/500px-Singly-linked-list.svg.png)"
   ]
  },
  {
   "cell_type": "code",
   "execution_count": 5,
   "metadata": {},
   "outputs": [
    {
     "name": "stdout",
     "output_type": "stream",
     "text": [
      "<__main__.LinkedList object at 0x108a0b748>\n",
      "r\n",
      "a\n",
      "d\n",
      "a\n",
      "r\n",
      "<__main__.LinkedList object at 0x108a0b7b8>\n",
      "b\n",
      "o\n",
      "m\n",
      "b\n",
      "o\n",
      "r\n",
      "a\n"
     ]
    }
   ],
   "source": [
    "class Node(object):\n",
    "    def __init__(self):\n",
    "        self.data = None # contains the data\n",
    "        self.next = None # contains the reference to the next node\n",
    "\n",
    "\n",
    "class LinkedList:\n",
    "    def __init__(self):\n",
    "        self.head = None\n",
    "        self.tail = None\n",
    "\n",
    "    def add_node(self, data):\n",
    "        new_node = Node() # create a new node\n",
    "        new_node.data = data\n",
    "        if self.head is None: self.head = new_node\n",
    "        if self.tail: self.tail.next = new_node\n",
    "        self.tail = new_node # set the tail node to the new one\n",
    "\n",
    "    def list_print(self):\n",
    "        node = self.head\n",
    "        print(self)\n",
    "        while node:\n",
    "            print(node.data)\n",
    "            node = node.next\n",
    "\n",
    "\n",
    "\n",
    "ll1 = LinkedList()\n",
    "ll1.add_node('r')\n",
    "ll1.add_node('a')\n",
    "ll1.add_node('d')\n",
    "ll1.add_node('a')\n",
    "ll1.add_node('r')\n",
    "ll1.list_print()\n",
    "\n",
    "ll2 = LinkedList()\n",
    "ll2.add_node('b')\n",
    "ll2.add_node('o')\n",
    "ll2.add_node('m')\n",
    "ll2.add_node('b')\n",
    "ll2.add_node('o')\n",
    "ll2.add_node('r')\n",
    "ll2.add_node('a')\n",
    "ll2.list_print()"
   ]
  },
  {
   "cell_type": "markdown",
   "metadata": {},
   "source": [
    "#### Q 1.2.1\n",
    "Consider a [singly linked list](https://en.wikipedia.org/wiki/Linked_list), $L$. Write a function `is_palindrome(L)` that detects if $L$ is a [palindrome](https://en.wikipedia.org/wiki/Palindrome), by returning a bool, `True` or `False`.\n"
   ]
  },
  {
   "cell_type": "markdown",
   "metadata": {},
   "source": [
    "#### Ans 1.2.1"
   ]
  },
  {
   "cell_type": "code",
   "execution_count": 6,
   "metadata": {},
   "outputs": [],
   "source": [
    "from string import punctuation\n",
    "\n",
    "def is_palindrome(L):\n",
    "    list_data = []\n",
    "    \n",
    "    node = L.head\n",
    "    while node:\n",
    "        list_data.append(node.data)\n",
    "        node = node.next\n",
    "    list_data = ''.join(list_data)\n",
    "    list_data = list_data.translate(list_data.maketrans(punctuation, ' '*len(punctuation))).replace(' ', '').lower()\n",
    "    \n",
    "    return bool(list_data == list_data[::-1])"
   ]
  },
  {
   "cell_type": "code",
   "execution_count": 7,
   "metadata": {},
   "outputs": [
    {
     "name": "stdout",
     "output_type": "stream",
     "text": [
      "True False\n"
     ]
    }
   ],
   "source": [
    "print(is_palindrome(ll1), is_palindrome(ll2))"
   ]
  },
  {
   "cell_type": "code",
   "execution_count": 8,
   "metadata": {},
   "outputs": [
    {
     "name": "stdout",
     "output_type": "stream",
     "text": [
      "<__main__.LinkedList object at 0x108984e80>\n",
      "No\n",
      "x!\n",
      "in\n",
      "Nixon\n"
     ]
    },
    {
     "data": {
      "text/plain": [
       "True"
      ]
     },
     "execution_count": 8,
     "metadata": {},
     "output_type": "execute_result"
    }
   ],
   "source": [
    "ll3 = LinkedList()\n",
    "ll3.add_node('No')\n",
    "ll3.add_node('x!')\n",
    "ll3.add_node('in')\n",
    "ll3.add_node('Nixon')\n",
    "ll3.list_print()\n",
    "\n",
    "is_palindrome(ll3)"
   ]
  },
  {
   "cell_type": "code",
   "execution_count": 9,
   "metadata": {},
   "outputs": [
    {
     "name": "stdout",
     "output_type": "stream",
     "text": [
      "<__main__.LinkedList object at 0x108984160>\n",
      "91\n",
      "88\n",
      "100\n",
      "0018819\n"
     ]
    },
    {
     "data": {
      "text/plain": [
       "True"
      ]
     },
     "execution_count": 9,
     "metadata": {},
     "output_type": "execute_result"
    }
   ],
   "source": [
    "ll4 = LinkedList()\n",
    "ll4.add_node('91')\n",
    "ll4.add_node('88')\n",
    "ll4.add_node('100')\n",
    "ll4.add_node('0018819')\n",
    "ll4.list_print()\n",
    "\n",
    "is_palindrome(ll4)"
   ]
  },
  {
   "cell_type": "code",
   "execution_count": 10,
   "metadata": {},
   "outputs": [
    {
     "name": "stdout",
     "output_type": "stream",
     "text": [
      "Performance for Linked List ( ll1 ): 4.531707036003354\n",
      "Performance for Linked List ( ll2 ): 3.7913394329953007\n",
      "Performance for Linked List ( ll3 ): 8.3147967029945\n",
      "Performance for Linked List ( ll4 ): 5.890655524999602\n"
     ]
    }
   ],
   "source": [
    "for i in range(1,5):\n",
    "    print('Performance for Linked List (', 'll{}'.format(i), '):', \\\n",
    "          timeit.timeit(stmt=lambda: is_palindrome(eval('ll{}'.format(i))), setup='pass', number=100000))"
   ]
  },
  {
   "cell_type": "markdown",
   "metadata": {},
   "source": [
    "#### Q 1.2.2\n",
    "What is the complexity of your implementation?"
   ]
  },
  {
   "cell_type": "markdown",
   "metadata": {},
   "source": [
    "#### Ans 1.2.2\n",
    "Complexity of original implementation is linear $O(n)$, ignoring the string handling components like removal of punctuations, lower case conversion."
   ]
  },
  {
   "cell_type": "markdown",
   "metadata": {},
   "source": [
    "#### Q 1.2.3\n",
    "Consider an alternative implementation to detect if L is a palindrome and write a new function, `is_palindrome2(L)`."
   ]
  },
  {
   "cell_type": "markdown",
   "metadata": {},
   "source": [
    "#### Ans 1.2.3"
   ]
  },
  {
   "cell_type": "code",
   "execution_count": 11,
   "metadata": {},
   "outputs": [],
   "source": [
    "def is_palindrome2(L):\n",
    "    \n",
    "    pass\n",
    "    \n",
    "    return True"
   ]
  },
  {
   "cell_type": "markdown",
   "metadata": {},
   "source": [
    "#### Q 1.2.4\n",
    "What's the complexity of this implementation?"
   ]
  },
  {
   "cell_type": "markdown",
   "metadata": {},
   "source": [
    "#### Q 1.2.5 \n",
    "What are some examples of optimizations that could improve computational performance?"
   ]
  },
  {
   "cell_type": "markdown",
   "metadata": {},
   "source": [
    "#### Ans 1.2.5\n",
    "As per understanding, even recursion would attain linear complexity. Optimization can be done on space front, wherein instead of duplicating the data in another list, the linked list can be divided into two parts and compared with itself. "
   ]
  },
  {
   "cell_type": "markdown",
   "metadata": {},
   "source": [
    "## 2. Prob + Stats"
   ]
  },
  {
   "cell_type": "markdown",
   "metadata": {},
   "source": [
    "### Q 2.1: Finding $\\pi$ in a random uniform?\n",
    "![pi pie img](http://core2.staticworld.net/images/article/2016/03/pi-day-intro-100649273-carousel.idge.jpeg)\n",
    "\n",
    "Given a uniform random generator $[0,1)$ (e.g., use your language's standard libary to generate random value), write a a function `compute_pi` to compute [$\\pi$](https://en.wikipedia.org/wiki/Pi)."
   ]
  },
  {
   "cell_type": "markdown",
   "metadata": {},
   "source": [
    "### Ans 2.1"
   ]
  },
  {
   "cell_type": "code",
   "execution_count": 12,
   "metadata": {},
   "outputs": [
    {
     "name": "stdout",
     "output_type": "stream",
     "text": [
      "Calculated pi\n",
      "1 : 4.0\n",
      "10 : 3.2\n",
      "100 : 3.12\n",
      "1000 : 3.104\n",
      "10000 : 3.14\n",
      "100000 : 3.13744\n"
     ]
    }
   ],
   "source": [
    "import numpy as np\n",
    "\n",
    "def compute_pi(tnumber):\n",
    "    return (np.sum(np.where(np.linalg.norm(np.random.uniform(0.0, 1.0, (int(tnumber),2)), axis=1) <= 1.0, 1.0, 0.0))/tnumber)*4.0\n",
    "    \n",
    "print('Calculated pi')\n",
    "for i in 10.**np.arange(0,6):\n",
    "    print(int(i), ':', compute_pi(i))"
   ]
  },
  {
   "cell_type": "markdown",
   "metadata": {},
   "source": [
    "### Q 2.2: Making a 6-side die roll a 7?\n",
    "\n",
    "![reno die image](http://thumbs.ebaystatic.com/images/g/IQ8AAOSwvzRXyagD/s-l225.jpg)\n",
    "\n",
    "Using a single 6-side die, how can you generate a random number between 1 - 7?"
   ]
  },
  {
   "cell_type": "markdown",
   "metadata": {},
   "source": [
    "### Ans 2.2"
   ]
  },
  {
   "cell_type": "markdown",
   "metadata": {},
   "source": [
    "A simple way to generate random numbers between 1 - 7 using single 6-side die is to roll it twice, sum the two results, mod by 7 and add 1. It is simulated as following."
   ]
  },
  {
   "cell_type": "code",
   "execution_count": 13,
   "metadata": {},
   "outputs": [
    {
     "data": {
      "text/plain": [
       "3"
      ]
     },
     "execution_count": 13,
     "metadata": {},
     "output_type": "execute_result"
    }
   ],
   "source": [
    "(np.random.choice(range(1,7)) + np.random.choice(range(1,7)))%7+1"
   ]
  },
  {
   "cell_type": "markdown",
   "metadata": {},
   "source": [
    "This would always generate a number within the required range, yet would be biased towards 1 with probability 1/36, while all other numbers would have a probability of 5/36. The additional bias can be canceled out by noting down the individual results and discarding one of the combination leading to additional 1 output, e.g. 6 & 1. This would require rolling the dices again for this invalid (assumed) result, thus assigning equal probability to each of the 7 numbers."
   ]
  },
  {
   "cell_type": "markdown",
   "metadata": {},
   "source": [
    "### Q 2.3: Is normality uniform?\n",
    "\n",
    "![normal and uniform distributions](https://qph.ec.quoracdn.net/main-qimg-f6ed71ed1d0059760fb63db384dcbcca-c)\n",
    "\n",
    "Given draws from a normal distribution with known parameters, how can you simulate draws from a uniform distribution?"
   ]
  },
  {
   "cell_type": "markdown",
   "metadata": {},
   "source": [
    "### Ans 2.3\n",
    "\n",
    "One of the possible approaches is to use Rejection Sampling method or the Accept-Reject algorithm, where $g(Y)$ can be the normal distribution from which samples are drawn and compared. For the rejection decision, a coin flip can be utilized instead of the required uniform distribution, to accept/reject the generated sample based on the outcome {H: 1, T: 0}, along with the ratio of $f(Y)/g(Y)$ being greater than or less than the unbiased probability of $1/2$."
   ]
  },
  {
   "cell_type": "markdown",
   "metadata": {},
   "source": [
    "### Q 2.4: Should you pay or should you go?\n",
    "\n",
    "![coin flip](https://lh5.ggpht.com/iwD6MnHeHVAXNBgrO7r4N9MQxxYi6wT9vb0Mqu905zTnNlBciONAA98BqafyjzC06Q=w300)\n",
    "\n",
    "Let’s say we play a game where I keep flipping a coin until I get heads. If the first time I get heads is on the nth coin, then I pay you $2^{(n-1)}$ US dollars. How much would you pay me to play this game? Explain."
   ]
  },
  {
   "cell_type": "markdown",
   "metadata": {},
   "source": [
    "### Ans 2.4\n",
    "\n",
    "As depicted in the St. Petersburg paradox, even though the expected payout of this game is infinity $(\\sum \\frac{1}{2^n}2^{n-1} = \\sum \\frac{1}{2})$, in reality the payout may not be as handsome. Using a finite model, in order to win only 100USD, one would have to play the game 44 times with expected lottery value of 7.56. This outcome does not seem very enticing. Personally not being a fan of lotteries, if I am to play this game ever, would just do so for fun and to try my luck using only 5 dollars."
   ]
  },
  {
   "cell_type": "markdown",
   "metadata": {},
   "source": [
    "### Q 2.5: Uber vs. Lyft\n",
    "\n",
    "![uber vs lyft](http://usiaffinity.typepad.com/.a/6a01347fc1cb08970c01bb0876bcbe970d-pi)\n",
    "\n",
    "You request 2 UberX’s and 3 Lyfts. If the time that each takes to reach you is IID, what is the probability that all the Lyfts arrive first? What is the probability that all the UberX’s arrive first?"
   ]
  },
  {
   "cell_type": "markdown",
   "metadata": {},
   "source": [
    "### Ans 2.5\n",
    "\n",
    "Probability that all Lyfts arrive first = $\\frac{C^3_3}{C^5_3} \\text{x} \\frac{C^2_2}{C^2_2} = \\frac{1}{10} \\text{x} \\frac{1}{1} = \\frac{1}{10}$\n",
    "\n",
    "Probability that all UberXs arrive first = $\\frac{C^2_2}{C^5_2} \\text{x} \\frac{C^3_3}{C^3_3} = \\frac{1}{10} \\text{x} \\frac{1}{1} = \\frac{1}{10}$"
   ]
  }
 ],
 "metadata": {
  "kernelspec": {
   "display_name": "Python 3",
   "language": "python",
   "name": "python3"
  },
  "language_info": {
   "codemirror_mode": {
    "name": "ipython",
    "version": 3
   },
   "file_extension": ".py",
   "mimetype": "text/x-python",
   "name": "python",
   "nbconvert_exporter": "python",
   "pygments_lexer": "ipython3",
   "version": "3.5.3"
  }
 },
 "nbformat": 4,
 "nbformat_minor": 2
}
