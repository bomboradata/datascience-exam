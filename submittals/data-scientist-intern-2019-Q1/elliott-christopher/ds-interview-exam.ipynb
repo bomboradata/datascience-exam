{
 "cells": [
  {
   "cell_type": "markdown",
   "metadata": {},
   "source": [
    "<div class=\"clearfix\" style=\"padding: 10px; padding-left: 0px\">\n",
    "<a href=\"http://bombora.com\"><img src=\"https://app.box.com/shared/static/e0j9v1xjmubit0inthhgv3llwnoansjp.png\" width=\"200px\" class=\"pull-right\" style=\"display: inline-block; margin: 5px; vertical-align: middle;\"></a>\n",
    "<h1> Bombora Data Science: <br> *Interview Exam* </h1>\n",
    "</div>\n",
    "\n",
    "<img width=\"200px\" src=\"https://app.box.com/shared/static/15slg1mvjd1zldbg3xkj9picjkmhzpa5.png\">"
   ]
  },
  {
   "cell_type": "markdown",
   "metadata": {},
   "source": [
    "---\n",
    "# Welcome\n",
    "\n",
    "Welcome! This notebook contains interview exam questions referenced in the *Instructions* section in the `README.md`—please read that first, *before* attempting to answer questions here.\n",
    "\n",
    "<div class=\"alert alert-info\" role=\"alert\" style=\"margin: 10px\">\n",
    "<p style=\"font-weight:bold\">ADVICE</p>\n",
    "<p>*Do not* read these questions, and panic, *before* reading the instructions in `README.md`.</p>\n",
    "</div>\n",
    "\n",
    "<div class=\"alert alert-warning\" role=\"alert\" style=\"margin: 10px\">\n",
    "<p style=\"font-weight:bold\">WARNING</p>\n",
    "\n",
    "<p>If using <a href=\"https://try.jupyter.org\">try.jupyter.org</a> do not rely on the server for anything you want to last - your server will be <span style=\"font-weight:bold\">deleted after 10 minutes of inactivity</span>. Save often and rember download notebook when you step away (you can always re-upload and start again)!</p>\n",
    "</div>\n",
    "\n",
    "\n",
    "## Have fun!\n",
    "\n",
    "Regardless of outcome, getting to know you is important. Give it your best shot and we'll look forward to following up!"
   ]
  },
  {
   "cell_type": "markdown",
   "metadata": {},
   "source": [
    "# Exam Questions"
   ]
  },
  {
   "cell_type": "markdown",
   "metadata": {},
   "source": [
    "## 1. Algo + Data Structures"
   ]
  },
  {
   "cell_type": "markdown",
   "metadata": {},
   "source": [
    "### Q 1.1: Fibionacci\n",
    "![fib image](https://upload.wikimedia.org/wikipedia/commons/thumb/9/93/Fibonacci_spiral_34.svg/200px-Fibonacci_spiral_34.svg.png)"
   ]
  },
  {
   "cell_type": "markdown",
   "metadata": {},
   "source": [
    "#### Q 1.1.1\n",
    "Given $n$ where $n \\in \\mathbb{N}$ (i.e., $n$ is an integer and $n > 0$), write a function `fibonacci(n)` that computes the Fibonacci number $F_n$, where $F_n$ is defined by the recurrence relation:\n",
    "\n",
    "$$ F_n = F_{n-1} + F_{n-2}$$\n",
    "\n",
    "with initial conditions of:\n",
    "\n",
    "$$ F_1 = 1,  F_2 = 1$$"
   ]
  },
  {
   "cell_type": "markdown",
   "metadata": {},
   "source": [
    "#### Q 1.1.2\n",
    "What's the complexity of your implementation?"
   ]
  },
  {
   "cell_type": "markdown",
   "metadata": {},
   "source": [
    "#### Q 1.1.3\n",
    "Consider an alternative implementation to compute Fibonacci number $F_n$ and write a new function, `fibonacci2(n)`."
   ]
  },
  {
   "cell_type": "markdown",
   "metadata": {},
   "source": [
    "#### Q 1.1.4\n",
    "What's the complexity of your implementation?"
   ]
  },
  {
   "cell_type": "markdown",
   "metadata": {},
   "source": [
    "#### Q 1.1.5\n",
    "What are some examples of optimizations that could improve computational performance?\n"
   ]
  },
  {
   "cell_type": "markdown",
   "metadata": {},
   "source": [
    "### Q 1.2: Linked List\n",
    "![ll img](https://upload.wikimedia.org/wikipedia/commons/thumb/6/6d/Singly-linked-list.svg/500px-Singly-linked-list.svg.png)"
   ]
  },
  {
   "cell_type": "markdown",
   "metadata": {},
   "source": [
    "#### Q 1.2.1\n",
    "Consider a [singly linked list](https://en.wikipedia.org/wiki/Linked_list), $L$. Write a function `is_palindrome(L)` that detects if $L$ is a [palindrome](https://en.wikipedia.org/wiki/Palindrome), by returning a bool, `True` or `False`.\n"
   ]
  },
  {
   "cell_type": "code",
   "execution_count": 1,
   "metadata": {},
   "outputs": [
    {
     "data": {
      "text/plain": [
       "False"
      ]
     },
     "execution_count": 1,
     "metadata": {},
     "output_type": "execute_result"
    }
   ],
   "source": [
    "# Create Linked List Data Structure\n",
    "\n",
    "class Node(object):\n",
    "    \"\"\"Class Node extends Object class and implements methods which make up a linked list 'L'.\n",
    "    \n",
    "    Method get_Next provides the next node in the list (Auto set to None)\n",
    "    \n",
    "    Method get_value provides the value of the node\n",
    "    \n",
    "    Method is_palindrome computes if the linked list is a palindrome\n",
    "    \n",
    "    Method is_palindrome2 computes if the linked list is a palindrome\n",
    "    \n",
    "    Attributes:\n",
    "            next_Node: next node in the list\n",
    "            \n",
    "            value: value of the node in the list\n",
    "    \n",
    "    Invariants:\n",
    "            next_Node is either of type Node or None         \n",
    "    \"\"\"\n",
    "    \n",
    "    \n",
    "    def __init__(self,value,nextN = None):\n",
    "        \"\"\"\n",
    "        Creates a Node Object\n",
    "        \n",
    "        Precondition and Parameters:\n",
    "        \n",
    "        value is the value of the Node (can be of any type)\n",
    "        nextN is the next Node in the sequence (Must be of type Node or None)\n",
    "        \"\"\"\n",
    "        self.value = value\n",
    "        self.next_Node = nextN\n",
    "    \n",
    "    \n",
    "    def get_Next(self):\n",
    "        \n",
    "        \"\"\"returns the next node in the sequence. \n",
    "        If node is at the end of the list, returns None\"\"\"\n",
    "        \n",
    "        return self.next_Node\n",
    "    \n",
    "    \n",
    "    def get_value(self):\n",
    "        \n",
    "        \"\"\"returns the value of the current node in the sequence. \n",
    "        If the node has no value returns None\"\"\"\n",
    "        \n",
    "        return self.value\n",
    "    \n",
    "    def set_value(self,v):\n",
    "        \"\"\"Sets the value of the Node\"\"\"\n",
    "        self.value = v\n",
    "        \n",
    "    # First Implementation\n",
    "    \n",
    "def is_palindrome(node):\n",
    "    \"\"\"Returns True if the Linked List starting at this node creates a Palindrome\n",
    "    False otherwise\"\"\"\n",
    "        \n",
    "    if node.get_Next() == None:\n",
    "        return True\n",
    "        \n",
    "    stack = []\n",
    "    stack.append(node.get_value())\n",
    "    Next = node.get_Next()\n",
    "        \n",
    "    while Next != None:\n",
    "        stack.append(Next.get_value())\n",
    "        Next = Next.get_Next()\n",
    "        \n",
    "        \n",
    "    if list(reversed(stack)) == stack:\n",
    "        return True\n",
    "    else:\n",
    "        return False\n",
    "\n",
    "#Sample Nodes\n",
    "C = Node('A')\n",
    "B = Node('C',C)\n",
    "A = Node('B',B)\n",
    "\n",
    "is_palindrome(A)            "
   ]
  },
  {
   "cell_type": "markdown",
   "metadata": {},
   "source": [
    "#### Q 1.2.2\n",
    "What is the complexity of your implementation?"
   ]
  },
  {
   "cell_type": "markdown",
   "metadata": {},
   "source": [
    "The Time Complexity is O(n) "
   ]
  },
  {
   "cell_type": "markdown",
   "metadata": {},
   "source": [
    "#### Q 1.2.3\n",
    "Consider an alternative implementation to detect if L is a palindrome and write a new function, `is_palindrome2(L)`."
   ]
  },
  {
   "cell_type": "code",
   "execution_count": 2,
   "metadata": {},
   "outputs": [
    {
     "data": {
      "text/plain": [
       "True"
      ]
     },
     "execution_count": 2,
     "metadata": {},
     "output_type": "execute_result"
    }
   ],
   "source": [
    "def is_palindrome2(node):\n",
    "    \"\"\"\n",
    "    Alternate to Palindrome\n",
    "    Returns True if the Linked List starting at this node creates a Palindrome\n",
    "    False otherwise\n",
    "    \"\"\"\n",
    "    import copy\n",
    "    length=1\n",
    "    rvalues = []\n",
    "    values = []\n",
    "    \n",
    "    while node !=  None:\n",
    "        rvalues = [node.get_value()] + rvalues\n",
    "        values.append(node.get_value())\n",
    "        node = node.get_Next()\n",
    "    \n",
    "    if rvalues == values:\n",
    "        return True\n",
    "    else:\n",
    "        return False\n",
    "\n",
    "#Sample Nodes\n",
    "C = Node('A')\n",
    "B = Node('C',C)\n",
    "A = Node('A',B)\n",
    "\n",
    "is_palindrome2(A)            "
   ]
  },
  {
   "cell_type": "markdown",
   "metadata": {},
   "source": [
    "#### Q 1.2.4\n",
    "What's the complexity of this implementation?\n"
   ]
  },
  {
   "cell_type": "markdown",
   "metadata": {},
   "source": [
    "O(n)"
   ]
  },
  {
   "cell_type": "markdown",
   "metadata": {},
   "source": [
    "#### Q 1.2.5 \n",
    "What are some examples of optimizations that could improve computational performance?\n"
   ]
  },
  {
   "cell_type": "markdown",
   "metadata": {},
   "source": [
    "The Linked List Could be partioned into two halves to compute if the linked list is a Palidrome in half the time O(n/2) ~ O(n)"
   ]
  },
  {
   "cell_type": "markdown",
   "metadata": {},
   "source": [
    "## 2. Prob + Stats"
   ]
  },
  {
   "cell_type": "markdown",
   "metadata": {},
   "source": [
    "### Q 2.1: Finding $\\pi$ in a random uniform?\n",
    "![pi pie img](http://core2.staticworld.net/images/article/2016/03/pi-day-intro-100649273-carousel.idge.jpeg)\n",
    "\n",
    "Given a uniform random generator $[0,1)$ (e.g., use your language's standard libary to generate random value), write a a function `compute_pi` to compute [$\\pi$](https://en.wikipedia.org/wiki/Pi)."
   ]
  },
  {
   "cell_type": "markdown",
   "metadata": {},
   "source": [
    "### Q 2.2: Making a 6-side die roll a 7?\n",
    "\n",
    "![reno die image](http://thumbs.ebaystatic.com/images/g/IQ8AAOSwvzRXyagD/s-l225.jpg)\n",
    "\n",
    "Using a single 6-side die, how can you generate a random number between 1 - 7?"
   ]
  },
  {
   "cell_type": "markdown",
   "metadata": {},
   "source": [
    "### Q 2.3: Is normality uniform?\n",
    "\n",
    "![normal and uniform distributions](https://qph.ec.quoracdn.net/main-qimg-f6ed71ed1d0059760fb63db384dcbcca-c)\n",
    "\n",
    "Given draws from a normal distribution with known parameters, how can you simulate draws from a uniform distribution?"
   ]
  },
  {
   "cell_type": "markdown",
   "metadata": {},
   "source": [
    "### Q 2.4: Should you pay or should you go?\n",
    "\n",
    "![coin flip](https://lh5.ggpht.com/iwD6MnHeHVAXNBgrO7r4N9MQxxYi6wT9vb0Mqu905zTnNlBciONAA98BqafyjzC06Q=w300)\n",
    "\n",
    "Let’s say we play a game where I keep flipping a coin until I get heads. If the first time I get heads is on the nth coin, then I pay you $2^{(n-1)}$ US dollars. How much would you pay me to play this game? Explain."
   ]
  },
  {
   "cell_type": "markdown",
   "metadata": {},
   "source": [
    "In this sceanrio, the number of flips have a right tailed distribution with a high probability of taking 1 to 4 flips to reach a terminating point (flipping heads). With an average of 3 flips, my average payout is around 4 dollars. Assuming that I am only able to play this game once, I would pay someone 1.50 to 2.00 dollars to play this game. If I were allowed to play this game repeatedly, as this is unclear, I would pay more to play as the chances of a higher payout rise exponentionally with each non terminating flip."
   ]
  },
  {
   "cell_type": "code",
   "execution_count": 3,
   "metadata": {},
   "outputs": [],
   "source": [
    "import random\n",
    "import numpy as np\n",
    "\n",
    "flips = []\n",
    "\n",
    "#Create Simulation \n",
    "def sim():\n",
    "    trials = 1\n",
    "    heads = False\n",
    "    while heads == False:\n",
    "        if random.randint(0,1) == 1:\n",
    "            trials = trials + 1 \n",
    "            heads = True\n",
    "        else:\n",
    "            trials = trials + 1 \n",
    "            heads = False\n",
    "            \n",
    "    return trials\n",
    "\n",
    "for i in range(0,100001):\n",
    "    flips.append(sim())"
   ]
  },
  {
   "cell_type": "code",
   "execution_count": 6,
   "metadata": {},
   "outputs": [
    {
     "name": "stderr",
     "output_type": "stream",
     "text": [
      "C:\\ProgramData\\Anaconda3\\lib\\site-packages\\scipy\\stats\\stats.py:1713: FutureWarning: Using a non-tuple sequence for multidimensional indexing is deprecated; use `arr[tuple(seq)]` instead of `arr[seq]`. In the future this will be interpreted as an array index, `arr[np.array(seq)]`, which will result either in an error or a different result.\n",
      "  return np.add.reduce(sorted[indexer] * weights, axis=axis) / sumval\n"
     ]
    },
    {
     "name": "stdout",
     "output_type": "stream",
     "text": [
      "Average number of flips it takes to reach heads 2.995810041899581\n"
     ]
    },
    {
     "data": {
      "image/png": "[encoded data removed]",
      "text/plain": [
       "<Figure size 432x288 with 1 Axes>"
      ]
     },
     "metadata": {
      "needs_background": "light"
     },
     "output_type": "display_data"
    }
   ],
   "source": [
    "import matplotlib.pyplot as plt\n",
    "import seaborn as sns\n",
    "\n",
    "plt.title(\"Number of Flips Density Plot\")\n",
    "plt.xlabel(\"Flips\")\n",
    "plt.ylabel(\"Density\")\n",
    "sns.distplot(flips)\n",
    "print(\"Average number of flips it takes to reach heads\", np.mean(flips))"
   ]
  },
  {
   "cell_type": "markdown",
   "metadata": {},
   "source": [
    "### Q 2.5: Uber vs. Lyft\n",
    "\n",
    "![uber vs lyft](http://usiaffinity.typepad.com/.a/6a01347fc1cb08970c01bb0876bcbe970d-pi)\n",
    "\n",
    "You request 2 UberX’s and 3 Lyfts. If the time that each takes to reach you is IID, what is the probability that all the Lyfts arrive first? What is the probability that all the UberX’s arrive first?"
   ]
  }
 ],
 "metadata": {
  "kernelspec": {
   "display_name": "Python 3",
   "language": "python",
   "name": "python3"
  },
  "language_info": {
   "codemirror_mode": {
    "name": "ipython",
    "version": 3
   },
   "file_extension": ".py",
   "mimetype": "text/x-python",
   "name": "python",
   "nbconvert_exporter": "python",
   "pygments_lexer": "ipython3",
   "version": "3.7.0"
  }
 },
 "nbformat": 4,
 "nbformat_minor": 1
}
