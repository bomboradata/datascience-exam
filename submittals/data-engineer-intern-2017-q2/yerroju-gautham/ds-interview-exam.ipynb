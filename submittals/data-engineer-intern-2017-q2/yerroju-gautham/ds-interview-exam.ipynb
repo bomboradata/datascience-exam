{
 "cells": [
  {
   "cell_type": "markdown",
   "metadata": {},
   "source": [
    "<div class=\"clearfix\" style=\"padding: 10px; padding-left: 0px\">\n",
    "<a href=\"http://bombora.com\"><img src=\"https://app.box.com/shared/static/e0j9v1xjmubit0inthhgv3llwnoansjp.png\" width=\"200px\" class=\"pull-right\" style=\"display: inline-block; margin: 5px; vertical-align: middle;\"></a>\n",
    "<h1> Bombora Data Science: <br> *Interview Exam* </h1>\n",
    "</div>\n",
    "\n",
    "<img width=\"200px\" src=\"https://app.box.com/shared/static/15slg1mvjd1zldbg3xkj9picjkmhzpa5.png\">"
   ]
  },
  {
   "cell_type": "markdown",
   "metadata": {},
   "source": [
    "---\n",
    "# Welcome\n",
    "\n",
    "Welcome! This notebook contains interview exam questions referenced in the *Instructions* section in the `README.md`—please read that first, *before* attempting to answer questions here.\n",
    "\n",
    "<div class=\"alert alert-info\" role=\"alert\" style=\"margin: 10px\">\n",
    "<p style=\"font-weight:bold\">ADVICE</p>\n",
    "<p>*Do not* read these questions, and panic, *before* reading the instructions in `README.md`.</p>\n",
    "</div>\n",
    "\n",
    "<div class=\"alert alert-warning\" role=\"alert\" style=\"margin: 10px\">\n",
    "<p style=\"font-weight:bold\">WARNING</p>\n",
    "\n",
    "<p>If using <a href=\"https://try.jupyter.org\">try.jupyter.org</a> do not rely on the server for anything you want to last - your server will be <span style=\"font-weight:bold\">deleted after 10 minutes of inactivity</span>. Save often and rember download notebook when you step away (you can always re-upload and start again)!</p>\n",
    "</div>\n",
    "\n",
    "\n",
    "## Have fun!\n",
    "\n",
    "Regardless of outcome, getting to know you is important. Give it your best shot and we'll look forward to following up!"
   ]
  },
  {
   "cell_type": "markdown",
   "metadata": {},
   "source": [
    "# Exam Questions"
   ]
  },
  {
   "cell_type": "markdown",
   "metadata": {},
   "source": [
    "## 1. Algo + Data Structures"
   ]
  },
  {
   "cell_type": "markdown",
   "metadata": {},
   "source": [
    "### Q 1.1: Fibionacci\n",
    "![fib image](https://upload.wikimedia.org/wikipedia/commons/thumb/9/93/Fibonacci_spiral_34.svg/200px-Fibonacci_spiral_34.svg.png)"
   ]
  },
  {
   "cell_type": "markdown",
   "metadata": {},
   "source": [
    "#### Q 1.1.1\n",
    "Given $n$ where $n \\in \\mathbb{N}$ (i.e., $n$ is an integer and $n > 0$), write a function `fibonacci(n)` that computes the Fibonacci number $F_n$, where $F_n$ is defined by the recurrence relation:\n",
    "\n",
    "$$ F_n = F_{n-1} + F_{n-2}$$\n",
    "\n",
    "with initial conditions of:\n",
    "\n",
    "$$ F_1 = 1,  F_2 = 1$$"
   ]
  },
  {
   "cell_type": "code",
   "execution_count": 1,
   "metadata": {},
   "outputs": [
    {
     "data": {
      "text/plain": [
       "55"
      ]
     },
     "execution_count": 1,
     "metadata": {},
     "output_type": "execute_result"
    }
   ],
   "source": [
    "def fibonacci(n):\n",
    "    if (n <= 0):\n",
    "        return 0\n",
    "    if (n <= 2):\n",
    "        return 1\n",
    "    f1 = 1\n",
    "    f2 = 1\n",
    "    new_num = 0\n",
    "    for _ in range(n-2):\n",
    "        new_num = f1 + f2\n",
    "        f1 = f2\n",
    "        f2 = new_num\n",
    "    return new_num\n",
    "\n",
    "fibonacci(10)"
   ]
  },
  {
   "cell_type": "markdown",
   "metadata": {},
   "source": [
    "#### Q 1.1.2\n",
    "What's the complexity of your implementation?\n",
    "\n",
    "___Answer:___ For the iterative version, the complexity is linear, i.e, __O(n)__\n",
    "\n",
    "For all n <= 2, let us assume a constant time C (C is different for different values of n for all n <= 2, but for simplicity I am trivializing it as constant time C).\n",
    "\n",
    "For all n > 2,\n",
    "we have a for loop. The loop itself runs n-2 times, and all operations inside the loop require 4 constant time (assuming assignment and addition take 1 unit time) Then we have +1 for the last return statement.\n",
    "\n",
    "So our complexity is: O(C + (n-2)(5)) = O(C + 5n - 10) = __O(n)__"
   ]
  },
  {
   "cell_type": "markdown",
   "metadata": {},
   "source": [
    "#### Q 1.1.3\n",
    "Consider an alternative implementation to compute Fibonacci number $F_n$ and write a new function, `fibonacci2(n)`."
   ]
  },
  {
   "cell_type": "code",
   "execution_count": 2,
   "metadata": {},
   "outputs": [
    {
     "data": {
      "text/plain": [
       "55"
      ]
     },
     "execution_count": 2,
     "metadata": {},
     "output_type": "execute_result"
    }
   ],
   "source": [
    "def fibonacci2(n):\n",
    "    if (n <= 0):\n",
    "        return 0\n",
    "    if (n <= 2):\n",
    "        return 1\n",
    "    return fibonacci2(n-2) + fibonacci2(n-1)\n",
    "\n",
    "fibonacci2(10)"
   ]
  },
  {
   "cell_type": "markdown",
   "metadata": {},
   "source": [
    "#### Q 1.1.4\n",
    "What's the complexity of your implementation?\n",
    "\n",
    "___Answer:___ For the recursive solution, the worst case complexity is exponential: __O(2<sup>n</sup>)__\n",
    "\n",
    "The base case is constant time for n <= 2.\n",
    "\n",
    "Then, by expressing T(n) = C + T(n-1) + T(n-2),\n",
    "\n",
    "We can calculate the upper bound by approximating T(n-2) to T(n-1) (even though T(n-2) is less than T(n-1)), which evaluates to __O(2<sup>n</sup>)__"
   ]
  },
  {
   "cell_type": "markdown",
   "metadata": {},
   "source": [
    "#### Q 1.1.5\n",
    "What are some examples of optimizations that could improve computational performance?\n",
    "\n",
    "___Answer___:\n",
    "\n",
    "__1. For the recursive solution:__\n",
    "We can cache intermediate results of calls to the function to prevent repeating the computation for the same n, something like:"
   ]
  },
  {
   "cell_type": "code",
   "execution_count": 3,
   "metadata": {},
   "outputs": [
    {
     "name": "stdout",
     "output_type": "stream",
     "text": [
      "Calculated fibonacci3(3)\n",
      "Calculated fibonacci3(4)\n",
      "Found fibonacci3(3)! I avoided more calculation.\n",
      "Found fibonacci3(4)! I avoided more calculation.\n",
      "Calculated fibonacci3(5)\n",
      "Calculated fibonacci3(6)\n",
      "Found fibonacci3(5)! I avoided more calculation.\n",
      "Found fibonacci3(6)! I avoided more calculation.\n",
      "Calculated fibonacci3(7)\n",
      "Calculated fibonacci3(8)\n",
      "Found fibonacci3(7)! I avoided more calculation.\n",
      "Found fibonacci3(8)! I avoided more calculation.\n",
      "Calculated fibonacci3(9)\n",
      "Calculated fibonacci3(10)\n"
     ]
    },
    {
     "data": {
      "text/plain": [
       "55"
      ]
     },
     "execution_count": 3,
     "metadata": {},
     "output_type": "execute_result"
    }
   ],
   "source": [
    "results = {}\n",
    "def fibonacci3(n):\n",
    "    if (n <= 0):\n",
    "        return 0\n",
    "    if (n <= 2):\n",
    "        return 1\n",
    "    if n in results:\n",
    "        print('Found fibonacci3('+str(n)+')! I avoided more calculation.')\n",
    "        return results[n]\n",
    "    results[n] = fibonacci3(n-2) + fibonacci3(n-1)\n",
    "    print('Calculated fibonacci3('+str(n)+')')\n",
    "    return results[n]\n",
    "\n",
    "fibonacci3(10)"
   ]
  },
  {
   "cell_type": "markdown",
   "metadata": {},
   "source": [
    "__Time complexity__: Simply put, since the recursive part of the function will run only once for each value from 2 to n, the complexity is __O(n)__.\n",
    "\n",
    "This is an example of Dynamic programming (express a problem in terms of smaller sub-problems, and re-use results of the smaller sub-problems).\n",
    "\n",
    "__2. For the iterative solution:__\n",
    "There isn't much we can do to improve performance, as caching does not help.\n",
    "\n",
    "__A note on large numbers__:\n",
    "For functions dealing with large numbers, simple operations like addition begin to incur an overhead, and their cost is no longer constant time."
   ]
  },
  {
   "cell_type": "markdown",
   "metadata": {},
   "source": [
    "### Q 1.2: Linked List\n",
    "![ll img](https://upload.wikimedia.org/wikipedia/commons/thumb/6/6d/Singly-linked-list.svg/500px-Singly-linked-list.svg.png)"
   ]
  },
  {
   "cell_type": "markdown",
   "metadata": {},
   "source": [
    "#### Q 1.2.1\n",
    "Consider a [singly linked list](https://en.wikipedia.org/wiki/Linked_list), $L$. Write a function `is_palindrome(L)` that detects if $L$ is a [palindrome](https://en.wikipedia.org/wiki/Palindrome), by returning a bool, `True` or `False`.\n"
   ]
  },
  {
   "cell_type": "markdown",
   "metadata": {},
   "source": [
    "#### Q 1.2.2\n",
    "What is the complexity of your implementation?"
   ]
  },
  {
   "cell_type": "markdown",
   "metadata": {},
   "source": [
    "#### Q 1.2.3\n",
    "Consider an alternative implementation to detect if L is a palindrome and write a new function, `is_palindrome2(L)`."
   ]
  },
  {
   "cell_type": "markdown",
   "metadata": {},
   "source": [
    "#### Q 1.2.4\n",
    "What's the complexity of this implementation?\n"
   ]
  },
  {
   "cell_type": "markdown",
   "metadata": {},
   "source": [
    "#### Q 1.2.5 \n",
    "What are some examples of optimizations that could improve computational performance?\n"
   ]
  },
  {
   "cell_type": "markdown",
   "metadata": {},
   "source": [
    "## 2. Prob + Stats"
   ]
  },
  {
   "cell_type": "markdown",
   "metadata": {},
   "source": [
    "### Q 2.1: Finding $\\pi$ in a random uniform?\n",
    "![pi pie img](http://core2.staticworld.net/images/article/2016/03/pi-day-intro-100649273-carousel.idge.jpeg)\n",
    "\n",
    "Given a uniform random generator $[0,1)$ (e.g., use your language's standard libary to generate random value), write a a function `compute_pi` to compute [$\\pi$](https://en.wikipedia.org/wiki/Pi)."
   ]
  },
  {
   "cell_type": "markdown",
   "metadata": {},
   "source": [
    "___Answer:___\n",
    "\n",
    "We can use the [Monte Carlo approximation](https://en.wikipedia.org/wiki/Monte_Carlo_method) for calculating Pi. The key idea is to inscribe a circle within a square, and generate as many random points in 2D space as possible, and count how many of them are within the circle. The reasoning follows:\n",
    "\n",
    "- AreaCircle = pi*r^2\n",
    "- AreaSquare = (2r)^2 = 4r^2\n",
    "- Ratio AreaCircle/AreaSquare = pi/4\n",
    "  - implies pi = 4*(AreaCircle/AreaSquare)\n",
    "- We estimate AreaCircle/AreaSquare by generating points at random in the square and count how many of them are inside the circle (so larger number of points converges to accurate pi)\n",
    "\n",
    "We also take only one quadrant of the circle (the positive XY quadrant) for simplicity. The result should not differ because the ratio of areas remains the same."
   ]
  },
  {
   "cell_type": "code",
   "execution_count": 6,
   "metadata": {},
   "outputs": [
    {
     "data": {
      "text/plain": [
       "3.13684"
      ]
     },
     "execution_count": 6,
     "metadata": {},
     "output_type": "execute_result"
    }
   ],
   "source": [
    "from random import random\n",
    "from math import sqrt\n",
    "\n",
    "# Taking circle radius 1 unit (implies square length 2 units if circle is inscribed in square)\n",
    "\n",
    "SAMPLE_SIZE = 100000\n",
    "\n",
    "def compute_pi():\n",
    "    points_inside_circle = 0\n",
    "    \n",
    "    for _ in range(SAMPLE_SIZE):\n",
    "        if inside_circle(random(), random()):\n",
    "            points_inside_circle += 1\n",
    "    \n",
    "    return 4*points_inside_circle/SAMPLE_SIZE\n",
    "\n",
    "def inside_circle(x, y):\n",
    "    return sqrt(x*x + y*y) <= 1\n",
    "\n",
    "compute_pi()"
   ]
  },
  {
   "cell_type": "markdown",
   "metadata": {},
   "source": [
    "### Q 2.2: Making a 6-side die roll a 7?\n",
    "\n",
    "![reno die image](http://thumbs.ebaystatic.com/images/g/IQ8AAOSwvzRXyagD/s-l225.jpg)\n",
    "\n",
    "Using a single 6-side die, how can you generate a random number between 1 - 7?"
   ]
  },
  {
   "cell_type": "markdown",
   "metadata": {},
   "source": [
    "### Q 2.3: Is normality uniform?\n",
    "\n",
    "![normal and uniform distributions](https://qph.ec.quoracdn.net/main-qimg-f6ed71ed1d0059760fb63db384dcbcca-c)\n",
    "\n",
    "Given draws from a normal distribution with known parameters, how can you simulate draws from a uniform distribution?"
   ]
  },
  {
   "cell_type": "markdown",
   "metadata": {},
   "source": [
    "### Q 2.4: Should you pay or should you go?\n",
    "\n",
    "![coin flip](https://lh5.ggpht.com/iwD6MnHeHVAXNBgrO7r4N9MQxxYi6wT9vb0Mqu905zTnNlBciONAA98BqafyjzC06Q=w300)\n",
    "\n",
    "Let’s say we play a game where I keep flipping a coin until I get heads. If the first time I get heads is on the nth coin, then I pay you $2^{(n-1)}$ US dollars. How much would you pay me to play this game? Explain."
   ]
  },
  {
   "cell_type": "markdown",
   "metadata": {},
   "source": [
    "___Answer:___\n",
    "\n",
    "NOTE: I am not confident if this is the answer you are looking for, so I have attempted Q 2.1 as well.\n",
    "\n",
    "TL;DR:\n",
    "- A's best interest to play as few games as possible (so would only accept 1 game for $1)\n",
    "- B's best interest to play as many games as possible (so would offer as much as he/she can)\n",
    "\n",
    "__First, I state what I understand the quetion to be:__\n",
    "\n",
    "If persons A and B are playing the game, if person A keeps flipping a __fair coin__, the game stops the first time A gets a Heads, and would give B 2<sup>(n-1)</sup> US dollars.\n",
    "\n",
    "The question is: __How much would B pay A to play this game?__\n",
    "\n",
    "I am assuming that B would not _gain_ any money at the end, but would just get back the money he/she has given A, by playing the game. The goal of B is to enable A to play the game.\n",
    "\n",
    "__Now, the answer:__\n",
    "\n",
    "P(Heads on first toss) = 1/2\n",
    "\n",
    "P(Heads on second toss) = 1/2 (Tails on first toss) times 1/2 (Heads on second toss)\n",
    "\n",
    "P(Heads on third toss) = 1/2 (Tails on 1st toss) times 1/2 (Tails on 2nd toss) times 1/2 (Heads on third toss)\n",
    ".\n",
    ".\n",
    ".\n",
    "\n",
    "So, the total probability of landing the first heads is: 1/2 + 1/2.1/2 + 1/2.1/2.1/2 + ......\n",
    "\n",
    "Theoretically, the game could go on infinitely without a Heads landing. So, the probability of landing a Heads is an infinite geometric series, with a=1/2, r=1/2. So, \n",
    "\n",
    "The starting probability (Heads on first toss) is 1/2.\n",
    "\n",
    "P(Heads, overall) = a/(1-r) = 0.5/(1-0/5) = 0/5/0/5 = 1.\n",
    "\n",
    "In other words, The probability that heads lands is 0.5 on the first toss, but the odds keep improving as the number of tosses increase (and at the infinite limit, probability is 1).\n",
    "\n",
    "So, __how much should B pay A? That depends on how much risk A is willing to take.__\n",
    "\n",
    "At minimum, B should pay A $1 to play the game (n=1 in 2<sup>(n-1)</sup>, i.e, 1 game). This gives A the best chances (a probability of 0.5) to win the game and keep the money.\n",
    "\n",
    "B could persuade A to play more games by giving more money (and the money increases exponentially for each game), but A has better chances of winning (and keeping the money) if they play as few games as possible (because as n increases, the probability of Heads also increases)."
   ]
  },
  {
   "cell_type": "markdown",
   "metadata": {},
   "source": [
    "### Q 2.5: Uber vs. Lyft\n",
    "\n",
    "![uber vs lyft](http://usiaffinity.typepad.com/.a/6a01347fc1cb08970c01bb0876bcbe970d-pi)\n",
    "\n",
    "You request 2 UberX’s and 3 Lyfts. If the time that each takes to reach you is IID, what is the probability that all the Lyfts arrive first? What is the probability that all the UberX’s arrive first?"
   ]
  }
 ],
 "metadata": {
  "kernelspec": {
   "display_name": "Python 3",
   "language": "python",
   "name": "python3"
  },
  "language_info": {
   "codemirror_mode": {
    "name": "ipython",
    "version": 3
   },
   "file_extension": ".py",
   "mimetype": "text/x-python",
   "name": "python",
   "nbconvert_exporter": "python",
   "pygments_lexer": "ipython3",
   "version": "3.5.3"
  }
 },
 "nbformat": 4,
 "nbformat_minor": 1
}
