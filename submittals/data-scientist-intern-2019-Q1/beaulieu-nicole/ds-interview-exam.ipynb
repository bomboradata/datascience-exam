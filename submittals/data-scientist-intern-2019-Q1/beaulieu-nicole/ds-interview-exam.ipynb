{
 "cells": [
  {
   "cell_type": "markdown",
   "metadata": {},
   "source": [
    "<div class=\"clearfix\" style=\"padding: 10px; padding-left: 0px\">\n",
    "<a href=\"http://bombora.com\"><img src=\"https://app.box.com/shared/static/e0j9v1xjmubit0inthhgv3llwnoansjp.png\" width=\"200px\" class=\"pull-right\" style=\"display: inline-block; margin: 5px; vertical-align: middle;\"></a>\n",
    "<h1> Bombora Data Science: <br> *Interview Exam* </h1>\n",
    "</div>\n",
    "\n",
    "<img width=\"200px\" src=\"https://app.box.com/shared/static/15slg1mvjd1zldbg3xkj9picjkmhzpa5.png\">"
   ]
  },
  {
   "cell_type": "markdown",
   "metadata": {},
   "source": [
    "---\n",
    "# Welcome\n",
    "\n",
    "Welcome! This notebook contains interview exam questions referenced in the *Instructions* section in the `README.md`—please read that first, *before* attempting to answer questions here.\n",
    "\n",
    "<div class=\"alert alert-info\" role=\"alert\" style=\"margin: 10px\">\n",
    "<p style=\"font-weight:bold\">ADVICE</p>\n",
    "<p>*Do not* read these questions, and panic, *before* reading the instructions in `README.md`.</p>\n",
    "</div>\n",
    "\n",
    "<div class=\"alert alert-warning\" role=\"alert\" style=\"margin: 10px\">\n",
    "<p style=\"font-weight:bold\">WARNING</p>\n",
    "\n",
    "<p>If using <a href=\"https://try.jupyter.org\">try.jupyter.org</a> do not rely on the server for anything you want to last - your server will be <span style=\"font-weight:bold\">deleted after 10 minutes of inactivity</span>. Save often and rember download notebook when you step away (you can always re-upload and start again)!</p>\n",
    "</div>\n",
    "\n",
    "\n",
    "## Have fun!\n",
    "\n",
    "Regardless of outcome, getting to know you is important. Give it your best shot and we'll look forward to following up!"
   ]
  },
  {
   "cell_type": "markdown",
   "metadata": {},
   "source": [
    "# Exam Questions"
   ]
  },
  {
   "cell_type": "markdown",
   "metadata": {},
   "source": [
    "## 1. Algo + Data Structures"
   ]
  },
  {
   "cell_type": "markdown",
   "metadata": {},
   "source": [
    "### Q 1.1: Fibionacci\n",
    "![fib image](https://upload.wikimedia.org/wikipedia/commons/thumb/9/93/Fibonacci_spiral_34.svg/200px-Fibonacci_spiral_34.svg.png)"
   ]
  },
  {
   "cell_type": "markdown",
   "metadata": {},
   "source": [
    "#### Q 1.1.1\n",
    "Given $n$ where $n \\in \\mathbb{N}$ (i.e., $n$ is an integer and $n > 0$), write a function `fibonacci(n)` that computes the Fibonacci number $F_n$, where $F_n$ is defined by the recurrence relation:\n",
    "\n",
    "$$ F_n = F_{n-1} + F_{n-2}$$\n",
    "\n",
    "with initial conditions of:\n",
    "\n",
    "$$ F_1 = 1,  F_2 = 1$$"
   ]
  },
  {
   "cell_type": "code",
   "execution_count": 11,
   "metadata": {},
   "outputs": [
    {
     "name": "stdout",
     "output_type": "stream",
     "text": [
      "Algorithm 1 for value 10: 55\n",
      "---\n",
      "Algorithm 1 for value 1: 1\n",
      "Algorithm 1 for value 2: 1\n",
      "Algorithm 1 for value 3: 2\n",
      "Algorithm 1 for value 4: 3\n",
      "Algorithm 1 for value 5: 5\n",
      "Algorithm 1 for value 6: 8\n",
      "Algorithm 1 for value 7: 13\n",
      "Algorithm 1 for value 8: 21\n",
      "Algorithm 1 for value 9: 34\n",
      "Algorithm 1 for value 10: 55\n",
      "Algorithm 1 for value 11: 89\n",
      "Algorithm 1 for value 12: 144\n",
      "Algorithm 1 for value 13: 233\n",
      "Algorithm 1 for value 14: 377\n",
      "Algorithm 1 for value 15: 610\n",
      "Algorithm 1 for value 16: 987\n",
      "Algorithm 1 for value 17: 1597\n",
      "Algorithm 1 for value 18: 2584\n",
      "Algorithm 1 for value 19: 4181\n",
      "Algorithm 1 for value 20: 6765\n",
      "---\n"
     ]
    }
   ],
   "source": [
    "# For the fibonacci sequence, each number is the sum of the two\n",
    "# proceeding numbers: Fn = Fn−1 + Fn−2.\n",
    "\n",
    "# Define a simple version of the algorithm.  Starting simple helps make sure that\n",
    "# we've got the algorithm defined and working correctly.\n",
    "def fibonacci(n):\n",
    "\n",
    "    # Note that the loop below will execute if the value received is not greater than 1.\n",
    "    # However, defining explicit error checking is still a good idea.\n",
    "    if (n <= 0):\n",
    "        print (\"Invalid value received.  Sequence is calcuated for values greater than 1.\")\n",
    "\n",
    "    # For this implementation, the starting condiditions are: F1 = 1,F2 = 1\n",
    "    f1 = 1\n",
    "    f2 = 1\n",
    "\n",
    "    # Keep track of the running total based on the rules: Fn = Fn−1 + Fn−2\n",
    "    # By default, make the total 1.  This will accomodate n = 1.\n",
    "    f_total = 1\n",
    "\n",
    "    # In a simple implementation, we can use a loop to keep track of the\n",
    "    # number of times we've calculated the current value of the sequence.\n",
    "    for x in range (1, n):\n",
    "\n",
    "        # This sequence is calculated for x > 1.\n",
    "        if x > 1:\n",
    "            f_total = f1 + f2\n",
    "            f1 = f2\n",
    "            f2 = f_total\n",
    "        else:\n",
    "            # The current total is 1 if there are not two values to add together.\n",
    "            f_total = 1\n",
    "\n",
    "        # Show progress.\n",
    "        #print (f_total, flush=True)\n",
    "    \n",
    "    # Return the running total.\n",
    "    return f_total\n",
    "\n",
    "# Find the value in the fibonacci sequence.\n",
    "nth_value = 10\n",
    "# Use algorithm 1.\n",
    "fib_total = fibonacci(nth_value)\n",
    "print (\"Algorithm 1 for value %d: %d\" % (nth_value, fib_total))\n",
    "print (\"---\")\n",
    "\n",
    "# Find the first 20 values.\n",
    "for x in range (1, 21):\n",
    "    # Use algorithm 1.\n",
    "    fib_total = fibonacci(x)\n",
    "    print (\"Algorithm 1 for value %d: %d\" % (x, fib_total))\n",
    "\n",
    "print (\"---\")"
   ]
  },
  {
   "cell_type": "markdown",
   "metadata": {},
   "source": [
    "#### Q 1.1.2\n",
    "What's the complexity of your implementation?"
   ]
  },
  {
   "cell_type": "markdown",
   "metadata": {},
   "source": [
    "The complexity of this implementation is O(n) since the complexity grows linearly with the value for which we are calculating the fibonacci index.  The single loop gives us a clue in finding the complexity."
   ]
  },
  {
   "cell_type": "markdown",
   "metadata": {},
   "source": [
    "#### Q 1.1.3\n",
    "Consider an alternative implementation to compute Fibonacci number $F_n$ and write a new function, `fibonacci2(n)`."
   ]
  },
  {
   "cell_type": "code",
   "execution_count": 6,
   "metadata": {},
   "outputs": [
    {
     "name": "stdout",
     "output_type": "stream",
     "text": [
      "Algorithm 2 for value 10: 55\n",
      "---\n",
      "Algorithm 2 for value 1: 1\n",
      "Algorithm 2 for value 2: 1\n",
      "Algorithm 2 for value 3: 2\n",
      "Algorithm 2 for value 4: 3\n",
      "Algorithm 2 for value 5: 5\n",
      "Algorithm 2 for value 6: 8\n",
      "Algorithm 2 for value 7: 13\n",
      "Algorithm 2 for value 8: 21\n",
      "Algorithm 2 for value 9: 34\n",
      "Algorithm 2 for value 10: 55\n",
      "Algorithm 2 for value 11: 89\n",
      "Algorithm 2 for value 12: 144\n",
      "Algorithm 2 for value 13: 233\n",
      "Algorithm 2 for value 14: 377\n",
      "Algorithm 2 for value 15: 610\n",
      "Algorithm 2 for value 16: 987\n",
      "Algorithm 2 for value 17: 1597\n",
      "Algorithm 2 for value 18: 2584\n",
      "Algorithm 2 for value 19: 4181\n",
      "Algorithm 2 for value 20: 6765\n",
      "---\n"
     ]
    }
   ],
   "source": [
    "# Define a second version of the algorithm.  One approach is to use recursion.\n",
    "def fibonacci2(n):\n",
    "\n",
    "    # Keep track of the running total based on the rules: Fn = Fn−1 + Fn−2\n",
    "    # It's reasonable to also return each value inline rather than assigning\n",
    "    # to a variable, however, using the variable makes it easier to debug.\n",
    "    f_total = 0\n",
    "    if n <= 0:\n",
    "        f_total = 0\n",
    "    elif n > 1:\n",
    "        # If there are at least 2 values to add together, call this function again\n",
    "        # with the preceeding two values in the sequence.\n",
    "        f_total = fibonacci2(n - 1) + fibonacci2(n - 2)\n",
    "    else:\n",
    "        return 1\n",
    "\n",
    "    # Show progress.\n",
    "    # print (f_total, flush=True)\n",
    "    \n",
    "    # Return the running total.\n",
    "    return f_total\n",
    "\n",
    "# Find the value in the fibonacci sequence.\n",
    "nth_value = 10\n",
    "# Use algorithm 1.\n",
    "fib_total = fibonacci2(nth_value)\n",
    "print (\"Algorithm 2 for value %d: %d\" % (nth_value, fib_total))\n",
    "\n",
    "print (\"---\")\n",
    "\n",
    "# Find the first 20 values.\n",
    "for x in range (1, 21):\n",
    "    # Use algorithm 1.\n",
    "    fib_total = fibonacci2(x)\n",
    "    print (\"Algorithm 2 for value %d: %d\" % (x, fib_total))\n",
    "\n",
    "print (\"---\")"
   ]
  },
  {
   "cell_type": "markdown",
   "metadata": {},
   "source": [
    "#### Q 1.1.4\n",
    "What's the complexity of your implementation?"
   ]
  },
  {
   "cell_type": "markdown",
   "metadata": {},
   "source": [
    "The complexity of this implementation is O(2^N) since using in recursion, the Fibonacci function is called twice for each N (ex. n - 1 and n - 2)."
   ]
  },
  {
   "cell_type": "markdown",
   "metadata": {},
   "source": [
    "#### Q 1.1.5\n",
    "What are some examples of optimizations that could improve computational performance?\n"
   ]
  },
  {
   "cell_type": "markdown",
   "metadata": {},
   "source": [
    "One way to improve the computational performance of the algorithms is to store the Fibonacci value for each value of n.  A reasonable data structure for this storage is an array that stores the Fibonacci value at index n on first calculation and retrieved each time the Fibonacci value is required going forward.  Thus, the calculation would happen just once and the value retrieved from the memory in subsequent iterations:\n",
    "    ex. if fib_vals[n] : return fib_vals[n] else fib_vals[n] = fibonacci(n)  \n",
    "\n",
    "Doing so will add a bit of memory overhead for storage but will reduce the number of times the calculation for the sequence is performed.  In the O(n) implementation, doing so may not have a significant impact on the complexity designation but removing the extra calculations would likely speed up the program.  The recursive function would benefit more in reducing the exponential complexity given that there are duplicate calculations for each N as the program recurses and iterates."
   ]
  },
  {
   "cell_type": "markdown",
   "metadata": {},
   "source": [
    "Another way to improve the computational performance is to add a second parameter to the recursive function call so that N-1 and N-2 are both passed into the function.  In this implementation, only one recursive call per N is required thus reducing the complexity to O(n)."
   ]
  },
  {
   "cell_type": "markdown",
   "metadata": {},
   "source": [
    "### Q 1.2: Linked List\n",
    "![ll img](https://upload.wikimedia.org/wikipedia/commons/thumb/6/6d/Singly-linked-list.svg/500px-Singly-linked-list.svg.png)"
   ]
  },
  {
   "cell_type": "markdown",
   "metadata": {},
   "source": [
    "#### Q 1.2.1\n",
    "Consider a [singly linked list](https://en.wikipedia.org/wiki/Linked_list), $L$. Write a function `is_palindrome(L)` that detects if $L$ is a [palindrome](https://en.wikipedia.org/wiki/Palindrome), by returning a bool, `True` or `False`.\n"
   ]
  },
  {
   "cell_type": "markdown",
   "metadata": {},
   "source": [
    "#### Q 1.2.2\n",
    "What is the complexity of your implementation?"
   ]
  },
  {
   "cell_type": "markdown",
   "metadata": {},
   "source": [
    "#### Q 1.2.3\n",
    "Consider an alternative implementation to detect if L is a palindrome and write a new function, `is_palindrome2(L)`."
   ]
  },
  {
   "cell_type": "markdown",
   "metadata": {},
   "source": [
    "#### Q 1.2.4\n",
    "What's the complexity of this implementation?\n"
   ]
  },
  {
   "cell_type": "markdown",
   "metadata": {},
   "source": [
    "#### Q 1.2.5 \n",
    "What are some examples of optimizations that could improve computational performance?\n"
   ]
  },
  {
   "cell_type": "markdown",
   "metadata": {},
   "source": [
    "## 2. Prob + Stats"
   ]
  },
  {
   "cell_type": "markdown",
   "metadata": {},
   "source": [
    "### Q 2.1: Finding $\\pi$ in a random uniform?\n",
    "![pi pie img](http://core2.staticworld.net/images/article/2016/03/pi-day-intro-100649273-carousel.idge.jpeg)\n",
    "\n",
    "Given a uniform random generator $[0,1)$ (e.g., use your language's standard libary to generate random value), write a a function `compute_pi` to compute [$\\pi$](https://en.wikipedia.org/wiki/Pi)."
   ]
  },
  {
   "cell_type": "markdown",
   "metadata": {},
   "source": [
    "### Q 2.2: Making a 6-side die roll a 7?\n",
    "\n",
    "![reno die image](http://thumbs.ebaystatic.com/images/g/IQ8AAOSwvzRXyagD/s-l225.jpg)\n",
    "\n",
    "Using a single 6-side die, how can you generate a random number between 1 - 7?"
   ]
  },
  {
   "cell_type": "markdown",
   "metadata": {},
   "source": [
    "One way to use a single 6-sided die to generate a random number between 1 and 7 is to roll the same die twice and map the resultant values to a set of indices. The code follows.  Note that I included comments to demonstrate mhy thought process in implementing this algorithm."
   ]
  },
  {
   "cell_type": "code",
   "execution_count": 10,
   "metadata": {},
   "outputs": [
    {
     "name": "stdout",
     "output_type": "stream",
     "text": [
      "Value generated by index:  [14533, 14125, 14294, 14248, 14095, 14373, 14331]\n"
     ]
    }
   ],
   "source": [
    "import random\n",
    "\n",
    "# This was my first stab at figuring this out.  I realized in doing so that the\n",
    "# values were not going to be equally distributed since there are many ways to\n",
    "# get some of the values (ex. 1 + 3 = 4, 2 + 2 = 4, 3 + 1 = 4).\n",
    "def generate_rng_no_bueno():\n",
    "    \n",
    "    # Roll the same die twice.\n",
    "    roll1 = random.randint(1, 6)\n",
    "    sum_of_two_rolls = roll1 + random.randint(1, 6)\n",
    "\n",
    "    # To make this work, we need to check for the bounds of our random number\n",
    "    # generator.  So, if the first roll is a 1, return it value since the sum of\n",
    "    # the two rolls will never return 1.\n",
    "    # Also, since our generator has a max of 7, return the first roll.\n",
    "    if (roll1 == 1 or sum_of_two_rolls > 7):\n",
    "        return roll1\n",
    "    # Otherwise, return the sum.\n",
    "    else:\n",
    "        return sum_of_two_rolls\n",
    "\n",
    "# Next, I wrote this test code to figure out how I could use sections or chunks of\n",
    "# of the results of two rolls to generate the values within the right range.\n",
    "# This is the though process that led me to the modulus idea.\n",
    "\n",
    "# Test code to figure out the algorithm.\n",
    "# for x in range (2, 36):\n",
    "#    outcome = x % 7\n",
    "#    print (\"test output: %d\" % (outcome))\n",
    "\n",
    "# Using a single 6-side die, generate a random number between 1 and 7.\n",
    "def generate_rng():\n",
    "    \n",
    "    # Roll the same die twice.  This gives us a range between 2 and 36 that is\n",
    "    # evenly distributed.  Note that the division is inclusive on the low end\n",
    "    # and exclusive on the top end.  Of course, in a bigger program,\n",
    "    # we'd shy away from magic numbers.\n",
    "    sum_of_two_rolls = random.randint(1, 7) + random.randint(1, 7)\n",
    "\n",
    "    # Just make sure that the random isn't returning something unexpected.\n",
    "    if (sum_of_two_rolls < 2):\n",
    "        print (\"Yikes.  < 36\")\n",
    "    if (sum_of_two_rolls > 36):\n",
    "        print (\"Yikes.  > 36\")\n",
    "    \n",
    "    # Knowing that we want a value between 1 and 7, we can apply the modulus\n",
    "    # to use the remainder to map our sum to a value between 0 and 6.  Adjust\n",
    "    # by 1 to get our final value between 1 and 7.\n",
    "    outcome = sum_of_two_rolls % 7 + 1\n",
    "\n",
    "    # Show progress.\n",
    "    #print (outcome, flush=True)\n",
    "    return outcome\n",
    "\n",
    "\n",
    "# Run a lot of tests to make sure that there are no errant values and to ensure\n",
    "# that the values generated are roughly evenly distributed.  On my computer, I\n",
    "# ran the test 1M times in the final execution.  I scaled it down here.\n",
    "test_distribution = [0] * 7\n",
    "for x in range (1, 100000):\n",
    "    \n",
    "    rng_returned = generate_rng()\n",
    "\n",
    "    # Double check the return value.\n",
    "    if rng_returned < 1 or rng_returned > 7:\n",
    "        print (\"Invalid value returned: %d\" % (rng_returned))\n",
    "\n",
    "    # Keep track of how many times each valiue is generated (use the value as\n",
    "    # an index into the accumulator array.\n",
    "    test_distribution[rng_returned - 1] = test_distribution[rng_returned - 1] + 1\n",
    "    #print (\"Calcuated RNG: %d\" % (rng_returned))\n",
    "\n",
    "print (\"Value generated by index: \", test_distribution)"
   ]
  },
  {
   "cell_type": "markdown",
   "metadata": {},
   "source": [
    "### Q 2.3: Is normality uniform?\n",
    "\n",
    "![normal and uniform distributions](https://qph.ec.quoracdn.net/main-qimg-f6ed71ed1d0059760fb63db384dcbcca-c)\n",
    "\n",
    "Given draws from a normal distribution with known parameters, how can you simulate draws from a uniform distribution?"
   ]
  },
  {
   "cell_type": "markdown",
   "metadata": {},
   "source": [
    "### Q 2.4: Should you pay or should you go?\n",
    "\n",
    "![coin flip](https://lh5.ggpht.com/iwD6MnHeHVAXNBgrO7r4N9MQxxYi6wT9vb0Mqu905zTnNlBciONAA98BqafyjzC06Q=w300)\n",
    "\n",
    "Let’s say we play a game where I keep flipping a coin until I get heads. If the first time I get heads is on the nth coin, then I pay you $2^{(n-1)}$ US dollars. How much would you pay me to play this game? Explain."
   ]
  },
  {
   "cell_type": "markdown",
   "metadata": {},
   "source": [
    "### Q 2.5: Uber vs. Lyft\n",
    "\n",
    "![uber vs lyft](http://usiaffinity.typepad.com/.a/6a01347fc1cb08970c01bb0876bcbe970d-pi)\n",
    "\n",
    "You request 2 UberX’s and 3 Lyfts. If the time that each takes to reach you is IID, what is the probability that all the Lyfts arrive first? What is the probability that all the UberX’s arrive first?"
   ]
  }
 ],
 "metadata": {
  "kernelspec": {
   "display_name": "Python 3",
   "language": "python",
   "name": "python3"
  },
  "language_info": {
   "codemirror_mode": {
    "name": "ipython",
    "version": 3
   },
   "file_extension": ".py",
   "mimetype": "text/x-python",
   "name": "python",
   "nbconvert_exporter": "python",
   "pygments_lexer": "ipython3",
   "version": "3.6.7"
  }
 },
 "nbformat": 4,
 "nbformat_minor": 2
}
