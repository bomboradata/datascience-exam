{
 "cells": [
  {
   "cell_type": "markdown",
   "metadata": {
    "deletable": true,
    "editable": true
   },
   "source": [
    "<div class=\"clearfix\" style=\"padding: 10px; padding-left: 0px\">\n",
    "\n",
    "<p>\n",
    "<a href=\"http://bombora.com\"><img src=\"https://app.box.com/shared/static/e0j9v1xjmubit0inthhgv3llwnoansjp.png\" width=\"200px\" class=\"pull-right\" style=\"display: inline-block; margin: 5px; vertical-align: middle;\"></a>\n",
    "<h1> Bombora Data Science: <br> *Interview Exam* </h1>\n",
    "</div>\n",
    "<img width=\"200px\" src=https://app.box.com/shared/static/15slg1mvjd1zldbg3xkj9picjkmhzpa5.png >\n",
    "\n",
    "---"
   ]
  },
  {
   "cell_type": "markdown",
   "metadata": {
    "deletable": true,
    "editable": true
   },
   "source": [
    "# Welcome\n",
    "\n",
    "Welcome! This notebook contains interview exam questions referenced in the *Instructions* section in the `README.md`—please read that first, *before* attempting to answer questions here.\n",
    "\n",
    "<div class=\"alert alert-info\" role=\"alert\" style=\"margin: 10px\">\n",
    "<p>**ADVICE**</p>\n",
    "<p>*Do not* read these questions, and panic, *before* reading the instructions in `README.md`.</p>\n",
    "</div>\n",
    "\n",
    "<div class=\"alert alert-warning\" role=\"alert\" style=\"margin: 10px\">\n",
    "<p>**WARNING**</p>\n",
    "\n",
    "<p>If using [try.jupyter.org](https://try.jupyter.org) do not rely on the server for anything you want to last - your server will be *deleted after 10 minutes of inactivity*. Save often and rember download notebook when you step away (you can always re-upload and start again)!</p>\n",
    "</div>\n",
    "\n",
    "\n",
    "## Have fun!\n",
    "\n",
    "Regardless of outcome, getting to know you is important. Give it your best shot and we'll look forward to following up!"
   ]
  },
  {
   "cell_type": "markdown",
   "metadata": {
    "deletable": true,
    "editable": true
   },
   "source": [
    "# Exam Questions"
   ]
  },
  {
   "cell_type": "markdown",
   "metadata": {
    "deletable": true,
    "editable": true
   },
   "source": [
    "## 1. Algo + Data Structures"
   ]
  },
  {
   "cell_type": "markdown",
   "metadata": {
    "deletable": true,
    "editable": true
   },
   "source": [
    "### Q 1.1: Fibionacci\n",
    "![fib image](https://upload.wikimedia.org/wikipedia/commons/thumb/9/93/Fibonacci_spiral_34.svg/200px-Fibonacci_spiral_34.svg.png)"
   ]
  },
  {
   "cell_type": "markdown",
   "metadata": {
    "deletable": true,
    "editable": true
   },
   "source": [
    "#### Q 1.1.1\n",
    "Given $n$ where $n \\in \\mathbb{N}$ (i.e., $n$ is an integer and $n > 0$), write a function `fibonacci(n)` that computes the Fibonacci number $F_n$, where $F_n$ is defined by the recurrence relation:\n",
    "\n",
    "$$ F_n = F_{n-1} + F_{n-2}$$\n",
    "\n",
    "with initial conditions of:\n",
    "\n",
    "$$ F_1 = 1,  F_2 = 1$$"
   ]
  },
  {
   "cell_type": "code",
   "execution_count": 1,
   "metadata": {
    "collapsed": false,
    "deletable": true,
    "editable": true
   },
   "outputs": [],
   "source": [
    "def fibonacci(n):\n",
    "    \"\"\"Function for nth fibonacci number, assume first two fibonacci numbers as 1 and 1\n",
    "    n: the nth \n",
    "    return: the nth fibonacci number \n",
    "    \"\"\"\n",
    "    a = 1\n",
    "    b = 1\n",
    "    if n <= 0:\n",
    "        return \"Incorrect input\"\n",
    "    \n",
    "    if n < 3:\n",
    "        return 1\n",
    "    \n",
    "    for i in range(2,n):\n",
    "        a, b = b, a + b\n",
    "    return b\n"
   ]
  },
  {
   "cell_type": "code",
   "execution_count": 2,
   "metadata": {
    "collapsed": false,
    "deletable": true,
    "editable": true
   },
   "outputs": [
    {
     "name": "stderr",
     "output_type": "stream",
     "text": [
      "...\n",
      "----------------------------------------------------------------------\n",
      "Ran 3 tests in 0.005s\n",
      "\n",
      "OK\n"
     ]
    }
   ],
   "source": [
    "import unittest\n",
    "\n",
    "class TestFibonacci(unittest.TestCase):\n",
    "\n",
    "    def test_base_case(self):\n",
    "        self.assertEqual(fibonacci(2), 1)\n",
    "\n",
    "    def test_10th(self):\n",
    "        self.assertEqual(fibonacci(10), 55)\n",
    "        \n",
    "    def test_invaid(self):\n",
    "        self.assertEqual(fibonacci(-1), \"Incorrect input\")\n",
    "\n",
    "if __name__ == \"__main__\":\n",
    "    unittest.main(argv=['first-arg-is-ignored'], exit=False)"
   ]
  },
  {
   "cell_type": "markdown",
   "metadata": {
    "deletable": true,
    "editable": true
   },
   "source": [
    "#### Q 1.1.2\n",
    "What's the complexity of your implementation?"
   ]
  },
  {
   "cell_type": "markdown",
   "metadata": {
    "deletable": true,
    "editable": true
   },
   "source": [
    "Time Complexity: O(n)\n",
    "Space Complexity: O(1)"
   ]
  },
  {
   "cell_type": "markdown",
   "metadata": {
    "deletable": true,
    "editable": true
   },
   "source": [
    "#### Q 1.1.3\n",
    "Consider an alternative implementation to compute Fibonacci number $F_n$ and write a new function, `fibonacci2(n)`."
   ]
  },
  {
   "cell_type": "code",
   "execution_count": 3,
   "metadata": {
    "collapsed": false,
    "deletable": true,
    "editable": true
   },
   "outputs": [
    {
     "name": "stderr",
     "output_type": "stream",
     "text": [
      "...\n",
      "----------------------------------------------------------------------\n",
      "Ran 3 tests in 0.008s\n",
      "\n",
      "OK\n"
     ]
    }
   ],
   "source": [
    "def _fib2(n):\n",
    "    \"\"\"Helper function to calculate matrix recursively\n",
    "    \"\"\"\n",
    "    if n == 0: \n",
    "        return (0, 1)\n",
    "    \n",
    "    half_n, is_n_odd = divmod(n, 2)\n",
    "    f_n, f_n_plus_1 = _fib2(half_n)\n",
    "    # matrix\n",
    "    f_n_squared = f_n * f_n\n",
    "    f_n_plus_1_squared = f_n_plus_1 * f_n_plus_1\n",
    "    f_2n = 2 * f_n * f_n_plus_1 - f_n_squared\n",
    "    f_2n_plus_1 = f_n_squared + f_n_plus_1_squared\n",
    "    \n",
    "    if is_n_odd:\n",
    "        return (f_2n_plus_1, f_2n + f_2n_plus_1)\n",
    "    return (f_2n, f_2n_plus_1)\n",
    "\n",
    "def fibonacci2(n):\n",
    "    \"\"\"Function for nth fibonacci number, assume first two fibonacci numbers as 1 and 1\n",
    "    n: the nth \n",
    "    return: the nth fibonacci number \n",
    "    \"\"\"\n",
    "    if n <= 0:\n",
    "        return \"Incorrect input\"\n",
    "    return _fib2(n)[0]\n",
    "\n",
    "if __name__ == \"__main__\":\n",
    "    unittest.main(argv=['first-arg-is-ignored'], exit=False)"
   ]
  },
  {
   "cell_type": "markdown",
   "metadata": {
    "deletable": true,
    "editable": true
   },
   "source": [
    "### Above function based on the following two equations and matrix calculation\n",
    "The idea is we calculate F2n and F2n+1 by Fn and Fn+1 recursively.\n",
    "\n",
    "<img src=\"http://on30xvavr.bkt.clouddn.com/fib_example_1.png\" width=\"400\"> \n",
    "<img src=\"http://on30xvavr.bkt.clouddn.com/fib_example_2.png\" width=\"600\">"
   ]
  },
  {
   "cell_type": "markdown",
   "metadata": {
    "deletable": true,
    "editable": true
   },
   "source": [
    "#### Q 1.1.4\n",
    "What's the complexity of your implementation?"
   ]
  },
  {
   "cell_type": "markdown",
   "metadata": {
    "deletable": true,
    "editable": true
   },
   "source": [
    "Time Complexity: O(log(n))  \n",
    "Space Complexity: O(log(n)) (Recursive Stack)"
   ]
  },
  {
   "cell_type": "markdown",
   "metadata": {
    "deletable": true,
    "editable": true
   },
   "source": [
    "#### Q 1.1.5\n",
    "What are some examples of optimizations that could improve computational performance?\n"
   ]
  },
  {
   "cell_type": "markdown",
   "metadata": {
    "deletable": true,
    "editable": true
   },
   "source": [
    "1. Use more extra space. Since we use recursive method to calculate matrix, apparently for each fib(n/2) and fib(n/2-1), we did duplicate calculations. So, we can memorize these middle results, and stored in dictionary to efficiently look up. \n",
    "2. Use parallel (more compuation cluster). Still parallel programming is best for matrix manipulation. However, the size of matrix in this problem is small. If considering the latency between communication with different computation nodes. It may not better than single node. Need to test.\n",
    "3. Reduce function call, and avoid 'slow' function."
   ]
  },
  {
   "cell_type": "markdown",
   "metadata": {
    "deletable": true,
    "editable": true
   },
   "source": [
    "### Q 1.2: Linked List\n",
    "![ll img](https://upload.wikimedia.org/wikipedia/commons/thumb/6/6d/Singly-linked-list.svg/500px-Singly-linked-list.svg.png)"
   ]
  },
  {
   "cell_type": "markdown",
   "metadata": {
    "deletable": true,
    "editable": true
   },
   "source": [
    "#### Q 1.2.1\n",
    "Consider a [singly linked list](https://en.wikipedia.org/wiki/Linked_list), $L$. Write a function `is_palindrome(L)` that detects if $L$ is a [palindrome](https://en.wikipedia.org/wiki/Palindrome), by returning a bool, `True` or `False`.\n"
   ]
  },
  {
   "cell_type": "markdown",
   "metadata": {
    "deletable": true,
    "editable": true
   },
   "source": [
    "#### Q 1.2.2\n",
    "What is the complexity of your implementation?"
   ]
  },
  {
   "cell_type": "markdown",
   "metadata": {
    "deletable": true,
    "editable": true
   },
   "source": [
    "#### Q 1.2.3\n",
    "Consider an alternative implementation to detect if L is a palindrome and write a new function, `is_palindrome2(L)`."
   ]
  },
  {
   "cell_type": "markdown",
   "metadata": {
    "deletable": true,
    "editable": true
   },
   "source": [
    "#### Q 1.2.4\n",
    "What's the complexity of this implementation?\n"
   ]
  },
  {
   "cell_type": "markdown",
   "metadata": {
    "deletable": true,
    "editable": true
   },
   "source": [
    "#### Q 1.2.5 \n",
    "What are some examples of optimizations that could improve computational performance?\n"
   ]
  },
  {
   "cell_type": "markdown",
   "metadata": {
    "deletable": true,
    "editable": true
   },
   "source": [
    "## 2. Prob + Stats"
   ]
  },
  {
   "cell_type": "markdown",
   "metadata": {
    "deletable": true,
    "editable": true
   },
   "source": [
    "### Q 2.1: Finding $\\pi$ in a random uniform?\n",
    "![pi pie img](http://core2.staticworld.net/images/article/2016/03/pi-day-intro-100649273-carousel.idge.jpeg)\n",
    "\n",
    "\n",
    "Given a uniform random generator $[0,1)$ (e.g., use your language's standard libary to generate random value), write a a function `compute_pi` to compute [$\\pi$](https://en.wikipedia.org/wiki/Pi)."
   ]
  },
  {
   "cell_type": "code",
   "execution_count": 4,
   "metadata": {
    "collapsed": false,
    "deletable": true,
    "editable": true
   },
   "outputs": [
    {
     "name": "stdout",
     "output_type": "stream",
     "text": [
      "Sample Size         Computed PI         Error               \n",
      "1                   4.0                 0.8584073464102069  \n",
      "10                  4.0                 0.8584073464102069  \n",
      "100                 3.28                0.1384073464102067  \n",
      "1000                3.2                 0.05840734641020706 \n",
      "10000               3.1448              0.003207346410206924\n",
      "100000              3.1396              0.0019926535897929476\n",
      "1000000             3.13946             0.0021326535897929766\n",
      "10000000            3.1407992           0.0007934535897931028\n"
     ]
    }
   ],
   "source": [
    "import math\n",
    "\n",
    "import numpy as np\n",
    "import matplotlib.pyplot as plt\n",
    "\n",
    "\n",
    "def compute_pi(size):\n",
    "    \"\"\"Compute Pi from a uniform random generator\n",
    "    size: sample size\n",
    "    return: approximate pi\n",
    "    \"\"\"\n",
    "    inside=0\n",
    "    \n",
    "    x = np.random.uniform(size=size)\n",
    "    y = np.random.uniform(size=size) \n",
    "    \n",
    "    for i, j in zip(x, y):\n",
    "        if i*i + j*j <= 1:\n",
    "            inside+=1\n",
    "    return 4 * inside / size\n",
    "\n",
    "\n",
    "def test(seed):\n",
    "    np.random.seed(seed)\n",
    "\n",
    "    sample_size = []\n",
    "    pis = []\n",
    "    errors = []\n",
    "    \n",
    "    print(\"{:<20}{:<20}{:<20}\".format('Sample Size ', 'Computed PI ', 'Error '))\n",
    "    for i in range(8):\n",
    "        size = 10 ** i\n",
    "        sample_size.append(size)\n",
    "        tmp_pi = compute_pi(size)\n",
    "        pis.append(tmp_pi)\n",
    "        errors.append(np.abs(tmp_pi - math.pi))\n",
    "        print(\"{:<20}{:<20}{:<20}\".format(size, pis[-1], errors[-1]))\n",
    "        \n",
    "    return sample_size, errors\n",
    "\n",
    "sample_size, errors = test(2)"
   ]
  },
  {
   "cell_type": "code",
   "execution_count": 5,
   "metadata": {
    "collapsed": false,
    "deletable": true,
    "editable": true
   },
   "outputs": [
    {
     "data": {
      "image/png": "[encoded data removed]",
      "text/plain": [
       "<matplotlib.figure.Figure at 0x10a115cc0>"
      ]
     },
     "metadata": {},
     "output_type": "display_data"
    }
   ],
   "source": [
    "plt.plot(np.log(sample_size), errors)\n",
    "plt.title('Error of Estimation of PI')\n",
    "plt.xlabel('Sample Size (log)')\n",
    "plt.ylabel('Error')\n",
    "plt.show()"
   ]
  },
  {
   "cell_type": "markdown",
   "metadata": {
    "deletable": true,
    "editable": true
   },
   "source": [
    "### Q 2.2: Making a 6-side die roll a 7?\n",
    "\n",
    "![reno die image](http://thumbs.ebaystatic.com/images/g/IQ8AAOSwvzRXyagD/s-l225.jpg)\n",
    "\n",
    "Using a single 6-side die, how can you generate a random number between 1 - 7?"
   ]
  },
  {
   "cell_type": "markdown",
   "metadata": {
    "deletable": true,
    "editable": true
   },
   "source": [
    "### Q 2.3: Is normality uniform?\n",
    "\n",
    "![normal and uniform distributions](https://qph.ec.quoracdn.net/main-qimg-f6ed71ed1d0059760fb63db384dcbcca-c)\n",
    "\n",
    "Given draws from a normal distribution with known parameters, how can you simulate draws from a uniform distribution?"
   ]
  },
  {
   "cell_type": "markdown",
   "metadata": {
    "deletable": true,
    "editable": true
   },
   "source": [
    "### Q 2.4: Should you pay or should you go?\n",
    "\n",
    "![coin flip](https://lh5.ggpht.com/iwD6MnHeHVAXNBgrO7r4N9MQxxYi6wT9vb0Mqu905zTnNlBciONAA98BqafyjzC06Q=w300)\n",
    "\n",
    "Let’s say we play a game where I keep flipping a coin until I get heads. If the first time I get heads is on the nth coin, then I pay you $2^{(n-1)}$ US dollars. How much would you pay me to play this game? Explain."
   ]
  },
  {
   "cell_type": "markdown",
   "metadata": {
    "deletable": true,
    "editable": true
   },
   "source": [
    "### Q 2.5: Uber vs. Lyft\n",
    "\n",
    "![uber vs lyft](http://usiaffinity.typepad.com/.a/6a01347fc1cb08970c01bb0876bcbe970d-pi)\n",
    "\n",
    "You request 2 UberX’s and 3 Lyfts. If the time that each takes to reach you is IID, what is the probability that all the Lyfts arrive first? What is the probability that all the UberX’s arrive first?"
   ]
  }
 ],
 "metadata": {
  "kernelspec": {
   "display_name": "Python 3",
   "language": "python",
   "name": "python3"
  },
  "language_info": {
   "codemirror_mode": {
    "name": "ipython",
    "version": 3
   },
   "file_extension": ".py",
   "mimetype": "text/x-python",
   "name": "python",
   "nbconvert_exporter": "python",
   "pygments_lexer": "ipython3",
   "version": "3.5.2"
  }
 },
 "nbformat": 4,
 "nbformat_minor": 0
}
