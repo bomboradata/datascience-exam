{
 "cells": [
  {
   "cell_type": "markdown",
   "metadata": {},
   "source": [
    "<div class=\"clearfix\" style=\"padding: 10px; padding-left: 0px\">\n",
    "\n",
    "<p>\n",
    "<a href=\"http://bombora.com\"><img src=\"https://app.box.com/shared/static/e0j9v1xjmubit0inthhgv3llwnoansjp.png\" width=\"200px\" class=\"pull-right\" style=\"display: inline-block; margin: 5px; vertical-align: middle;\"></a>\n",
    "<h1> Bombora Data Science: <br> *Interview Exam* </h1>\n",
    "</div>\n",
    "<img width=\"200px\" src=https://app.box.com/shared/static/15slg1mvjd1zldbg3xkj9picjkmhzpa5.png >\n",
    "\n",
    "---"
   ]
  },
  {
   "cell_type": "markdown",
   "metadata": {},
   "source": [
    "# Welcome\n",
    "\n",
    "Welcome! This notebook contains interview exam questions referenced in the *Instructions* section in the `README.md`—please read that first, *before* attempting to answer questions here.\n",
    "\n",
    "<div class=\"alert alert-info\" role=\"alert\" style=\"margin: 10px\">\n",
    "<p>**ADVICE**</p>\n",
    "<p>*Do not* read these questions, and panic, *before* reading the instructions in `README.md`.</p>\n",
    "</div>\n",
    "\n",
    "<div class=\"alert alert-warning\" role=\"alert\" style=\"margin: 10px\">\n",
    "<p>**WARNING**</p>\n",
    "\n",
    "<p>If using [try.jupyter.org](try.jupyter.org) do not rely on the server for anything you want to last - your server will be *deleted after 10 minutes of inactivity*. Save often and rember download notebook when you step away (you can always re-upload and start again)!</p>\n",
    "</div>\n",
    "\n",
    "\n",
    "## Have fun!\n",
    "\n",
    "Regardless of outcome, getting to know you is important. Give these your best shot and we'll look forward to following up!"
   ]
  },
  {
   "cell_type": "markdown",
   "metadata": {},
   "source": [
    "# Exam Questions"
   ]
  },
  {
   "cell_type": "markdown",
   "metadata": {},
   "source": [
    "## 1. Algo + Data Structures"
   ]
  },
  {
   "cell_type": "markdown",
   "metadata": {},
   "source": [
    "### Q 1.1: Fibionacci\n",
    "![fib image](https://upload.wikimedia.org/wikipedia/commons/thumb/9/93/Fibonacci_spiral_34.svg/200px-Fibonacci_spiral_34.svg.png)"
   ]
  },
  {
   "cell_type": "markdown",
   "metadata": {},
   "source": [
    "#### Q 1.1.1\n",
    "Given $n$ where $n \\in \\mathbb{N}$ (i.e., $n$ is an integer and $n > 0$), write a function `fibonacci(n)` that computes the Fibonacci number $F_n$, where $F_n$ is defined by the recurrence relation:\n",
    "\n",
    "$$ F_n = F_{n-1} + F_{n-2}$$\n",
    "\n",
    "with initial conditions of:\n",
    "\n",
    "$$ F_1 = 1,  F_2 = 1$$"
   ]
  },
  {
   "cell_type": "markdown",
   "metadata": {},
   "source": [
    "#### Q 1.1.2\n",
    "What's the complexity of your implementation?"
   ]
  },
  {
   "cell_type": "markdown",
   "metadata": {},
   "source": [
    "#### Q 1.1.3\n",
    "Consider an alternative implementation to compute Fibonacci number $F_n$ and write a new function, `fibonacci2(n)`."
   ]
  },
  {
   "cell_type": "markdown",
   "metadata": {},
   "source": [
    "#### Q 1.1.4\n",
    "What's the complexity of your implementation?"
   ]
  },
  {
   "cell_type": "markdown",
   "metadata": {},
   "source": [
    "#### Q 1.1.5\n",
    "What are some examples of optimizations that could improve computational performance?\n"
   ]
  },
  {
   "cell_type": "markdown",
   "metadata": {},
   "source": [
    "### Q 1.2: Linked List\n",
    "![ll img](https://upload.wikimedia.org/wikipedia/commons/thumb/6/6d/Singly-linked-list.svg/500px-Singly-linked-list.svg.png)"
   ]
  },
  {
   "cell_type": "markdown",
   "metadata": {},
   "source": [
    "#### Q 1.2.1\n",
    "Consider a singly linked list, $L$. Write a function `is_palindrome(L)` that detects if $L$ is a [palindrome](https://en.wikipedia.org/wiki/Palindrome), by returning a bool, `True` or `False`.\n"
   ]
  },
  {
   "cell_type": "code",
   "execution_count": null,
   "metadata": {
    "collapsed": true
   },
   "outputs": [],
   "source": [
    "#part 1.2.1\n",
    "def is_palindrone(L):\n",
    "    # initialize variables\n",
    "    cursor = Node()\n",
    "    counter = 0\n",
    "\ttempList = [None]\n",
    "\ttempListIndex\n",
    "    \n",
    "\t# set cursor\n",
    "    cursor = L.head\n",
    "    \n",
    "\t#checking if the list is empty, assuming an emply list counts\n",
    "    if (cursor == None) or (cursor.next = None):\n",
    "        return true\n",
    "    \n",
    "\t#loop to get number of elements\n",
    "    while(cursor != None):\n",
    "        counter = counter +1\n",
    "        cursor = cursor.next\n",
    "\t\t\n",
    "\t#reset cursor\n",
    "\tcursor = L.head\n",
    "\ttempListIndex = counter/2\n",
    "\t\n",
    "\tfor index in range(0,counter):\n",
    "\t\n",
    "\t    #if in the first half of the list place elements in a new list\n",
    "\t\tif index < (counter/2):\n",
    "\t\t\ttempList.append(cursor.data)\n",
    "\t\t#check for odd numbered list. the middle element needs to be skipped if so\n",
    "\t\telif (index == counter/2) and (counter %2 != 0):\n",
    "\t\t\tcursor = cursor.next\n",
    "\t\t#if in second half of the list compare each element to the first half\n",
    "\t\telif cursor.data != tempList[ tempListIndex ]:\n",
    "\t\t\treturn false\n",
    "\t\t\n",
    "\t\tcursor = cursor.next\n",
    "\t\t\n",
    "\t\t\n",
    "\t\t#decrement only if in seconld half of the list\n",
    "\t\tif index >= counter/2\n",
    "\t\t\ttempListIndex = tempListIndex-1\n",
    "\t\t\n",
    "\treturn true"
   ]
  },
  {
   "cell_type": "markdown",
   "metadata": {},
   "source": [
    "#### Q 1.2.2\n",
    "What is the complexity of your implementation?"
   ]
  },
  {
   "cell_type": "code",
   "execution_count": null,
   "metadata": {
    "collapsed": true
   },
   "outputs": [],
   "source": [
    "'''This would have the complexity of O(2n) approximately because in the function we have to loop through the list twice, \n",
    "but because the second loop is not embedded in the first it will only double the number of operations.'''\n"
   ]
  },
  {
   "cell_type": "markdown",
   "metadata": {},
   "source": [
    "#### Q 1.2.3\n",
    "Consider an alternative implementation to detect if L is a palindrome and write a new function, `is_palindrome2(L)`."
   ]
  },
  {
   "cell_type": "code",
   "execution_count": null,
   "metadata": {
    "collapsed": true
   },
   "outputs": [],
   "source": [
    "def is_palindrone2(L):\n",
    "\t# initialize variables\n",
    "\tcursor = Node()\n",
    "\ttempList = [None]\n",
    "\tindex = 0\n",
    "\t\n",
    "\tcursor = L.head\n",
    "\t\n",
    "\t# check if empty or only one element\n",
    "\tif (cursor == None) or (cursor.next == None):\n",
    "\t\treturn true\n",
    "\t\t\n",
    "\t# place all elements in a new list\n",
    "\twhile(cursor != None):\n",
    "\t\ttempList.append(cursor.data)\n",
    "\t\tcursor = cursor.next\n",
    "\t\n",
    "\t#reverse list\n",
    "\ttempList.reverse()\n",
    "\tcursor = L.head\n",
    "\t\n",
    "\t# chech each element for equality\n",
    "\twhile (cursor != None):\n",
    "\t\tif cursor.data != tempList[index]:\n",
    "\t\t\treturn false\n",
    "\t\tcursor = cursor.next\n",
    "\t\t\n",
    "\treturn true"
   ]
  },
  {
   "cell_type": "markdown",
   "metadata": {},
   "source": [
    "#### Q 1.2.4\n",
    "What's the complexity of this implementation?\n"
   ]
  },
  {
   "cell_type": "code",
   "execution_count": null,
   "metadata": {
    "collapsed": true
   },
   "outputs": [],
   "source": [
    "'''\n",
    "This would have the complexity of O(2n) similar to the last one because we are iterating through the list twice because\n",
    "there are two loops that loop through n elements, but one loop is not embedded in the other.\n",
    "'''\n"
   ]
  },
  {
   "cell_type": "markdown",
   "metadata": {},
   "source": [
    "#### Q 1.2.5 \n",
    "What are some examples of optimizations that could improve computational performance?\n"
   ]
  },
  {
   "cell_type": "code",
   "execution_count": null,
   "metadata": {
    "collapsed": true
   },
   "outputs": [],
   "source": [
    "'''\n",
    "Some things that would improve the complexity would be if there were more things known about the list.  For example, \n",
    "if we knew the size of the list the first solution could be simplified to O(n) because we would only need the one loop\n",
    "to check if the first half is equal to the left half.  Another thing would be if this was a doubly linked list and the \n",
    "end of the list was marked by a tail pointer.  If we could travel in both directions and the tail was marked we could \n",
    "write a solution that would only require O(n) operations on the list.\n",
    "Another idea, which might not be very helpful in other senarios, would be to have a head pointer that has pointers in\n",
    "both directions and represents the middle of the list ( if there is an even number of elements the data would be None) \n",
    "but the operation could be simplified to O(n) because each direction could be traversed and compared for equality. \n",
    "\t'''"
   ]
  },
  {
   "cell_type": "markdown",
   "metadata": {},
   "source": [
    "## 2. Prob + Stats"
   ]
  },
  {
   "cell_type": "markdown",
   "metadata": {},
   "source": [
    "### Q 2.1: Finding $\\pi$ in a random uniform?\n",
    "![pi pie img](http://core2.staticworld.net/images/article/2016/03/pi-day-intro-100649273-carousel.idge.jpeg)\n",
    "\n",
    "Given a uniform random generator $[0,1)$ (e.g., use your language's standard libary to generate random value), write a a function `compute_pi` to compute [$\\pi$](https://en.wikipedia.org/wiki/Pi)."
   ]
  },
  {
   "cell_type": "markdown",
   "metadata": {},
   "source": [
    "### Q 2.2: Making a 6-side die roll a 7?\n",
    "\n",
    "![reno die image](http://thumbs.ebaystatic.com/images/g/IQ8AAOSwvzRXyagD/s-l225.jpg)\n",
    "\n",
    "Using a single 6-side die, how can you generate a random number between 1 - 7?"
   ]
  },
  {
   "cell_type": "markdown",
   "metadata": {},
   "source": [
    "### Q 2.3: Is normality uniform?\n",
    "\n",
    "Given draws from a normal distribution with known parameters, how can you simulate draws from a uniform distribution?"
   ]
  },
  {
   "cell_type": "markdown",
   "metadata": {},
   "source": [
    "### Q 2.4: Should you pay or should you go?\n",
    "\n",
    "Let’s say we play a game where I keep flipping a coin until I get heads. If the first time I get heads is on the nth coin, then I pay you 2^(n-1) dollars. How much would you pay me to play this game? Explain."
   ]
  },
  {
   "cell_type": "code",
   "execution_count": null,
   "metadata": {
    "collapsed": true
   },
   "outputs": [],
   "source": [
    "'''\n",
    "I would be willing to pay up to 2 dollars to play this game.\n",
    "First lets define X = the number of flips we have until we get heads\n",
    "\n",
    "We need to find the expected value of X which is given by:\n",
    "\n",
    "E[X] = the sum from 1 to infinity of x*P(X=x)\n",
    "\n",
    "     = the sum from 1 to infinity of x(1/2)^x\n",
    "\n",
    "Using the ratio test for infinite series I proved that this series converes. I would have included that here but\n",
    "since I don't have access to symbols I am worried this would get a little messy. Since the ratio test gave a value\n",
    "less than one we know that this series converges, and using an online software I was able to find that this series\n",
    "converges to 2.  So the expected number of flips to get heads is 2 and if you pay 2^(n-1) dollars where n is the\n",
    "number of flips that means that the expected number of dollars per game is 2^(2-1) = 2 so I would not pay any more\n",
    "than two dollars because then I would lose money. If I paid two dollars per game I would be expected to break even.'''"
   ]
  },
  {
   "cell_type": "markdown",
   "metadata": {},
   "source": [
    "### Q 2.5: Uber vs. Lyft\n",
    "\n",
    "You request 2 UberX’s and 3 Lyfts. If the time that each takes to reach you is IID, what is the probability that all the Lyfts arrive first? What is the probability that all the UberX’s arrive first?"
   ]
  }
 ],
 "metadata": {
  "kernelspec": {
   "display_name": "Python 3",
   "language": "python",
   "name": "python3"
  },
  "language_info": {
   "codemirror_mode": {
    "name": "ipython",
    "version": 3
   },
   "file_extension": ".py",
   "mimetype": "text/x-python",
   "name": "python",
   "nbconvert_exporter": "python",
   "pygments_lexer": "ipython3",
   "version": "3.5.1"
  },
  "widgets": {
   "state": {},
   "version": "1.1.2"
  }
 },
 "nbformat": 4,
 "nbformat_minor": 1
}
