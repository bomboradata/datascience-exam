{
 "cells": [
  {
   "cell_type": "markdown",
   "metadata": {},
   "source": [
    "<div class=\"clearfix\" style=\"padding: 10px; padding-left: 0px\">\n",
    "\n",
    "<p>\n",
    "<a href=\"http://bombora.com\"><img src=\"https://app.box.com/shared/static/e0j9v1xjmubit0inthhgv3llwnoansjp.png\" width=\"200px\" class=\"pull-right\" style=\"display: inline-block; margin: 5px; vertical-align: middle;\"></a>\n",
    "<h1> Bombora Data Science: <br> *Interview Exam* </h1>\n",
    "</div>\n",
    "<img width=\"200px\" src=https://app.box.com/shared/static/15slg1mvjd1zldbg3xkj9picjkmhzpa5.png >\n",
    "\n",
    "---"
   ]
  },
  {
   "cell_type": "markdown",
   "metadata": {},
   "source": [
    "# Welcome\n",
    "\n",
    "Welcome! This notebook contains interview exam questions referenced in the *Instructions* section in the `README.md`—please read that first, *before* attempting to answer questions here.\n",
    "\n",
    "<div class=\"alert alert-info\" role=\"alert\" style=\"margin: 10px\">\n",
    "<p>**ADVICE**</p>\n",
    "<p>*Do not* read these questions, and panic, *before* reading the instructions in `README.md`.</p>\n",
    "</div>\n",
    "\n",
    "<div class=\"alert alert-warning\" role=\"alert\" style=\"margin: 10px\">\n",
    "<p>**WARNING**</p>\n",
    "\n",
    "<p>If using [try.jupyter.org](https://try.jupyter.org) do not rely on the server for anything you want to last - your server will be *deleted after 10 minutes of inactivity*. Save often and rember download notebook when you step away (you can always re-upload and start again)!</p>\n",
    "</div>\n",
    "\n",
    "\n",
    "## Have fun!\n",
    "\n",
    "Regardless of outcome, getting to know you is important. Give it your best shot and we'll look forward to following up!"
   ]
  },
  {
   "cell_type": "markdown",
   "metadata": {},
   "source": [
    "# Exam Questions"
   ]
  },
  {
   "cell_type": "markdown",
   "metadata": {},
   "source": [
    "## 1. Algo + Data Structures"
   ]
  },
  {
   "cell_type": "markdown",
   "metadata": {},
   "source": [
    "### Q 1.1: Fibionacci\n",
    "![fib image](https://upload.wikimedia.org/wikipedia/commons/thumb/9/93/Fibonacci_spiral_34.svg/200px-Fibonacci_spiral_34.svg.png)"
   ]
  },
  {
   "cell_type": "markdown",
   "metadata": {},
   "source": [
    "#### Q 1.1.1\n",
    "Given $n$ where $n \\in \\mathbb{N}$ (i.e., $n$ is an integer and $n > 0$), write a function `fibonacci(n)` that computes the Fibonacci number $F_n$, where $F_n$ is defined by the recurrence relation:\n",
    "\n",
    "$$ F_n = F_{n-1} + F_{n-2}$$\n",
    "\n",
    "with initial conditions of:\n",
    "\n",
    "$$ F_1 = 1,  F_2 = 1$$"
   ]
  },
  {
   "cell_type": "markdown",
   "metadata": {},
   "source": [
    "#### Answer:"
   ]
  },
  {
   "cell_type": "code",
   "execution_count": 64,
   "metadata": {},
   "outputs": [],
   "source": [
    "def fibonacci(n):\n",
    "    if n <= 0: return 0 #return 0 if input n <=0\n",
    "    if n <= 2: return 1\n",
    "    f1 = 1 \n",
    "    f2 = 1\n",
    "    for i in range(2,n):\n",
    "        f = f1 + f2\n",
    "        f1 = f2\n",
    "        f2 = f\n",
    "    return f2"
   ]
  },
  {
   "cell_type": "markdown",
   "metadata": {},
   "source": [
    "#### Q 1.1.2\n",
    "What's the complexity of your implementation?"
   ]
  },
  {
   "cell_type": "markdown",
   "metadata": {},
   "source": [
    "#### Answer: \n",
    "Time complexity: $O(n)$, space cost: $O(1)$."
   ]
  },
  {
   "cell_type": "markdown",
   "metadata": {},
   "source": [
    "#### Q 1.1.3\n",
    "Consider an alternative implementation to compute Fibonacci number $F_n$ and write a new function, `fibonacci2(n)`."
   ]
  },
  {
   "cell_type": "markdown",
   "metadata": {},
   "source": [
    "\n",
    "#### Answer:\n",
    "According to wikipedia, for all the Fibonacci numbers, the following equations hold (derived from the matrix representation for Fibonacci numbers):\n",
    "\n",
    "$$\\begin{aligned} F_{2n-1} &=F_n^2+F_{n-1}^2 \\\\  F_{2n}  &= F_n(F_{n-1}+F_{n+1}) \\\\&= F_n(2F_{n-1}+F_n)\\end{aligned}$$\n",
    "\n",
    "Thus the problem can be divided to half with any given $n$, recursively. The following algorithm is based on these formulas. The global variable, list $F$, is used to store intermediate results during the recursion calls to avoid repeated computations. "
   ]
  },
  {
   "cell_type": "code",
   "execution_count": 76,
   "metadata": {},
   "outputs": [],
   "source": [
    "F = [None]*10000 #array to store intermediate results\n",
    "\n",
    "def fibonacci2(n):\n",
    "    n = int(n)\n",
    "    if n <= 0: return 0 \n",
    "    if n <= 2: return 1\n",
    "    if (F[n]): return F[n] #return directly if the value is computed\n",
    "    if n % 2 == 0:\n",
    "        tmp = fibonacci2(n/2)\n",
    "        F[n] = tmp*(2*fibonacci2(n/2-1)+tmp)\n",
    "    else:\n",
    "        F[n] = fibonacci2((n+1)/2)**2 + fibonacci2((n+1)/2-1)**2\n",
    "    return F[n]"
   ]
  },
  {
   "cell_type": "code",
   "execution_count": 79,
   "metadata": {},
   "outputs": [],
   "source": [
    "#test cases\n",
    "#fibonacci(3)-fibonacci2(3)\n",
    "#fibonacci(10)+fibonacci2(11)-fibonacci2(12)\n",
    "#fibonacci2(1000)-fibonacci(1000)"
   ]
  },
  {
   "cell_type": "markdown",
   "metadata": {},
   "source": [
    "#### Q 1.1.4\n",
    "What's the complexity of your implementation?"
   ]
  },
  {
   "cell_type": "markdown",
   "metadata": {},
   "source": [
    "#### Answer:\n",
    "The time complexity is $O(\\log n)$ according to the above formulas, and the space cost is $O(1)$ as here the size of $F$ is a constant."
   ]
  },
  {
   "cell_type": "markdown",
   "metadata": {},
   "source": [
    "#### Q 1.1.5\n",
    "What are some examples of optimizations that could improve computational performance?\n"
   ]
  },
  {
   "cell_type": "markdown",
   "metadata": {},
   "source": [
    "#### Answer:\n",
    "A similar problem is power operation. \n",
    "Specifically, an intuitive method that computes $x^n$ by multiplying $x$ for $n$ times would cost time $O(n)$. An optimization is to utilize the following fomula (aka exponentiation by squaring):\n",
    "\n",
    "$$x^n = \\left\\{ \\begin{aligned}  x(x^{2})^{\\frac{n-1}{2}}, & \\quad \\text{if } n \\text{ is odd,} \\\\  (x^{2})^{\\frac{n}{2}}, &  \\quad \\text{if } n \\text{ is even.} \\end{aligned} \\right.$$\n",
    "\n",
    "Thus the problem can be solved in $O(\\log n)$.\n",
    "\n",
    "Another example is matrix multiplication, which is common in data science.\n",
    "\n",
    "For dense matrices, an iterative method to multiply two $n \\times n$ square matrices can cost $O(n^3)$, while using block partitioning and divide and conquer algorithm, along with some optimizations (e.g., Strassen algorithm) can optimize the problem to $O(n^{\\log7})$. \n",
    "\n",
    "For multiple matrices multiplication (or matrix chain multiplication): $A_1A_2...A_n$, applying dynamic programming method can achieve the optimal order for multiplication with less run time (polynomial) compared to enumerating all position orders (exponential-time).\n",
    "\n",
    "For sparse matrix multiplication, using Compressed Sparse Row(CSR) or Compressed Sparse Column(CSC) which represents a matrix by three one-dimensional arrays can reduce the complexity in both time and memory to $O(\\#nnz)$, where \\#nnz is the number of non-zeros. \n",
    "\n",
    "For matrix multiplication parallelization (which is surly faster than serial methods), optimizations can further improve the computational performance. For instance, when partitioning matrix to blocks in distributed system, optimized scheduling method can save more time by avoiding the situation that processors with sparser blocks (i.e., blocks contain fewer nonzero entries) have to wait for those assigned to denser blocks. In addition, sparse matrix-vector multiplication parallelling method can be optimized by graph partitioning approaches that reorders the entries in the Matrix to reduce the communication between different processors."
   ]
  },
  {
   "cell_type": "markdown",
   "metadata": {},
   "source": [
    "### Q 1.2: Linked List\n",
    "![ll img](https://upload.wikimedia.org/wikipedia/commons/thumb/6/6d/Singly-linked-list.svg/500px-Singly-linked-list.svg.png)"
   ]
  },
  {
   "cell_type": "markdown",
   "metadata": {},
   "source": [
    "#### Q 1.2.1\n",
    "Consider a [singly linked list](https://en.wikipedia.org/wiki/Linked_list), $L$. Write a function `is_palindrome(L)` that detects if $L$ is a [palindrome](https://en.wikipedia.org/wiki/Palindrome), by returning a bool, `True` or `False`.\n"
   ]
  },
  {
   "cell_type": "markdown",
   "metadata": {},
   "source": [
    "#### Q 1.2.2\n",
    "What is the complexity of your implementation?"
   ]
  },
  {
   "cell_type": "markdown",
   "metadata": {},
   "source": [
    "#### Q 1.2.3\n",
    "Consider an alternative implementation to detect if L is a palindrome and write a new function, `is_palindrome2(L)`."
   ]
  },
  {
   "cell_type": "markdown",
   "metadata": {},
   "source": [
    "#### Q 1.2.4\n",
    "What's the complexity of this implementation?\n"
   ]
  },
  {
   "cell_type": "markdown",
   "metadata": {},
   "source": [
    "#### Q 1.2.5 \n",
    "What are some examples of optimizations that could improve computational performance?\n"
   ]
  },
  {
   "cell_type": "markdown",
   "metadata": {},
   "source": [
    "## 2. Prob + Stats"
   ]
  },
  {
   "cell_type": "markdown",
   "metadata": {},
   "source": [
    "### Q 2.1: Finding $\\pi$ in a random uniform?\n",
    "![pi pie img](http://core2.staticworld.net/images/article/2016/03/pi-day-intro-100649273-carousel.idge.jpeg)\n",
    "\n",
    "Given a uniform random generator $[0,1)$ (e.g., use your language's standard libary to generate random value), write a a function `compute_pi` to compute [$\\pi$](https://en.wikipedia.org/wiki/Pi)."
   ]
  },
  {
   "cell_type": "code",
   "execution_count": 66,
   "metadata": {},
   "outputs": [],
   "source": [
    "import random\n",
    "\n",
    "def compute_pi(N): \n",
    "    #N = number of random numbers to sample\n",
    "    c = 0\n",
    "    random.seed()\n",
    "    for i in range(N):\n",
    "        # sample a 2D point(x,y) within the unit square {0,1}*{0,1}\n",
    "        x = random.random()\n",
    "        y = random.random()\n",
    "        # check if the point is in/on the 1/4 unit circle\n",
    "        if x**2 + y**2 <= 1: \n",
    "            c += 1\n",
    "    # compute pi based on pi = unit circle area / unit square area\n",
    "    return 4*c/N"
   ]
  },
  {
   "cell_type": "code",
   "execution_count": 80,
   "metadata": {
    "collapsed": true
   },
   "outputs": [],
   "source": [
    "#execute\n",
    "#compute_pi(10000000)"
   ]
  },
  {
   "cell_type": "markdown",
   "metadata": {},
   "source": [
    "### Q 2.2: Making a 6-side die roll a 7?\n",
    "\n",
    "![reno die image](http://thumbs.ebaystatic.com/images/g/IQ8AAOSwvzRXyagD/s-l225.jpg)\n",
    "\n",
    "Using a single 6-side die, how can you generate a random number between 1 - 7?"
   ]
  },
  {
   "cell_type": "markdown",
   "metadata": {},
   "source": [
    "### Q 2.3: Is normality uniform?\n",
    "\n",
    "![normal and uniform distributions](https://qph.ec.quoracdn.net/main-qimg-f6ed71ed1d0059760fb63db384dcbcca-c)\n",
    "\n",
    "Given draws from a normal distribution with known parameters, how can you simulate draws from a uniform distribution?"
   ]
  },
  {
   "cell_type": "markdown",
   "metadata": {},
   "source": [
    "### Q 2.4: Should you pay or should you go?\n",
    "\n",
    "![coin flip](https://lh5.ggpht.com/iwD6MnHeHVAXNBgrO7r4N9MQxxYi6wT9vb0Mqu905zTnNlBciONAA98BqafyjzC06Q=w300)\n",
    "\n",
    "Let’s say we play a game where I keep flipping a coin until I get heads. If the first time I get heads is on the nth coin, then I pay you $2^{(n-1)}$ US dollars. How much would you pay me to play this game? Explain."
   ]
  },
  {
   "cell_type": "markdown",
   "metadata": {},
   "source": [
    "#### Answer:\n",
    "Let $H$ be the random variable that counts the number of flips till you get heads. Then \n",
    "\n",
    "$$E(H) = \\frac{1}{2} \\cdot 1 + \\frac{1}{2}(1+E(H))$$\n",
    "\n",
    "$$=> E(H) = 2.$$\n",
    "\n",
    "So I will pay you 1.5 dollars if we are friends, 2 dollars if I like you, and 1 dollar if we are close :D"
   ]
  },
  {
   "cell_type": "markdown",
   "metadata": {},
   "source": [
    "### Q 2.5: Uber vs. Lyft\n",
    "\n",
    "![uber vs lyft](http://usiaffinity.typepad.com/.a/6a01347fc1cb08970c01bb0876bcbe970d-pi)\n",
    "\n",
    "You request 2 UberX’s and 3 Lyfts. If the time that each takes to reach you is IID, what is the probability that all the Lyfts arrive first? What is the probability that all the UberX’s arrive first?"
   ]
  }
 ],
 "metadata": {
  "kernelspec": {
   "display_name": "Python 3",
   "language": "python",
   "name": "python3"
  },
  "language_info": {
   "codemirror_mode": {
    "name": "ipython",
    "version": 3
   },
   "file_extension": ".py",
   "mimetype": "text/x-python",
   "name": "python",
   "nbconvert_exporter": "python",
   "pygments_lexer": "ipython3",
   "version": "3.6.0"
  }
 },
 "nbformat": 4,
 "nbformat_minor": 1
}
