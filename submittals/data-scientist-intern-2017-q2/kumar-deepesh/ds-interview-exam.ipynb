{
 "cells": [
  {
   "cell_type": "markdown",
   "metadata": {
    "deletable": true,
    "editable": true
   },
   "source": [
    "<div class=\"clearfix\" style=\"padding: 10px; padding-left: 0px\">\n",
    "\n",
    "<p>\n",
    "<a href=\"http://bombora.com\"><img src=\"https://app.box.com/shared/static/e0j9v1xjmubit0inthhgv3llwnoansjp.png\" width=\"200px\" class=\"pull-right\" style=\"display: inline-block; margin: 5px; vertical-align: middle;\"></a>\n",
    "<h1> Bombora Data Science: <br> *Interview Exam* </h1>\n",
    "</div>\n",
    "<img width=\"200px\" src=https://app.box.com/shared/static/15slg1mvjd1zldbg3xkj9picjkmhzpa5.png >\n",
    "\n",
    "---"
   ]
  },
  {
   "cell_type": "markdown",
   "metadata": {
    "deletable": true,
    "editable": true
   },
   "source": [
    "# Welcome\n",
    "\n",
    "Welcome! This notebook contains interview exam questions referenced in the *Instructions* section in the `README.md`—please read that first, *before* attempting to answer questions here.\n",
    "\n",
    "<div class=\"alert alert-info\" role=\"alert\" style=\"margin: 10px\">\n",
    "<p>**ADVICE**</p>\n",
    "<p>*Do not* read these questions, and panic, *before* reading the instructions in `README.md`.</p>\n",
    "</div>\n",
    "\n",
    "<div class=\"alert alert-warning\" role=\"alert\" style=\"margin: 10px\">\n",
    "<p>**WARNING**</p>\n",
    "\n",
    "<p>If using [try.jupyter.org](https://try.jupyter.org) do not rely on the server for anything you want to last - your server will be *deleted after 10 minutes of inactivity*. Save often and rember download notebook when you step away (you can always re-upload and start again)!</p>\n",
    "</div>\n",
    "\n",
    "\n",
    "## Have fun!\n",
    "\n",
    "Regardless of outcome, getting to know you is important. Give it your best shot and we'll look forward to following up!"
   ]
  },
  {
   "cell_type": "markdown",
   "metadata": {
    "deletable": true,
    "editable": true
   },
   "source": [
    "# Exam Questions"
   ]
  },
  {
   "cell_type": "markdown",
   "metadata": {
    "deletable": true,
    "editable": true
   },
   "source": [
    "## 1. Algo + Data Structures"
   ]
  },
  {
   "cell_type": "markdown",
   "metadata": {
    "deletable": true,
    "editable": true
   },
   "source": [
    "### Q 1.1: Fibionacci\n",
    "![fib image](https://upload.wikimedia.org/wikipedia/commons/thumb/9/93/Fibonacci_spiral_34.svg/200px-Fibonacci_spiral_34.svg.png)"
   ]
  },
  {
   "cell_type": "markdown",
   "metadata": {
    "deletable": true,
    "editable": true
   },
   "source": [
    "#### Q 1.1.1\n",
    "Given $n$ where $n \\in \\mathbb{N}$ (i.e., $n$ is an integer and $n > 0$), write a function `fibonacci(n)` that computes the Fibonacci number $F_n$, where $F_n$ is defined by the recurrence relation:\n",
    "\n",
    "$$ F_n = F_{n-1} + F_{n-2}$$\n",
    "\n",
    "with initial conditions of:\n",
    "\n",
    "$$ F_1 = 1,  F_2 = 1$$"
   ]
  },
  {
   "cell_type": "code",
   "execution_count": 10,
   "metadata": {
    "collapsed": false
   },
   "outputs": [
    {
     "name": "stdout",
     "output_type": "stream",
     "text": [
      "F( 1 ): 1\n",
      "F( 2 ): 1\n",
      "F( 3 ): 2\n",
      "F( 4 ): 3\n",
      "F( 5 ): 5\n",
      "F( 6 ): 8\n"
     ]
    }
   ],
   "source": [
    "def Fibonacci(n):\n",
    "    #print(n)\n",
    "    if n<=2:\n",
    "        return 1\n",
    "    else :\n",
    "        return Fibonacci(n-1)+Fibonacci(n-2)\n",
    "\n",
    "\n",
    "for i in range(6):\n",
    "    print(\"F(\",i+1,\"):\",Fibonacci(i+1))"
   ]
  },
  {
   "cell_type": "markdown",
   "metadata": {
    "deletable": true,
    "editable": true
   },
   "source": [
    "#### Q 1.1.2\n",
    "What's the complexity of your implementation?"
   ]
  },
  {
   "cell_type": "markdown",
   "metadata": {},
   "source": [
    "The runtime can be calculated recursively:\n",
    "\n",
    "t(1)=1\n",
    "\n",
    "t(2)=1\n",
    "\n",
    "t(n)=t(n-1)+t(n-2)+1\n",
    "\n",
    "The +1 in the equation is probably irrelevant for large value of n. Also, it grows approximately as fast as the fibo numbers, and they grow exponentially with the golden ration as base ie,(about 1.62). But of course O($1.62^{n}$) is automatically O($2^{n}$) too.\n",
    "\n",
    "Therefore the complexity of the implementation would be O($2^{n}$)"
   ]
  },
  {
   "cell_type": "markdown",
   "metadata": {
    "deletable": true,
    "editable": true
   },
   "source": [
    "#### Q 1.1.3\n",
    "Consider an alternative implementation to compute Fibonacci number $F_n$ and write a new function, `fibonacci2(n)`."
   ]
  },
  {
   "cell_type": "code",
   "execution_count": 8,
   "metadata": {
    "collapsed": false
   },
   "outputs": [
    {
     "name": "stdout",
     "output_type": "stream",
     "text": [
      "F( 1 ): 1\n",
      "F( 2 ): 1\n",
      "F( 3 ): 2\n",
      "F( 4 ): 3\n",
      "F( 5 ): 5\n",
      "F( 6 ): 8\n"
     ]
    }
   ],
   "source": [
    "def Fibonacci2(n):\n",
    " a,b = 1,1\n",
    " for i in range(n-1):\n",
    "        #print(i)\n",
    "        a,b = b,a+b\n",
    " return a\n",
    "\n",
    "\n",
    "for i in range(6):\n",
    "    print(\"F(\",i+1,\"):\",Fibonacci2(i+1))"
   ]
  },
  {
   "cell_type": "markdown",
   "metadata": {
    "deletable": true,
    "editable": true
   },
   "source": [
    "#### Q 1.1.4\n",
    "What's the complexity of your implementation?"
   ]
  },
  {
   "cell_type": "markdown",
   "metadata": {},
   "source": [
    "Ans. This is an Iterative implementation of Fibonacci Problem. Here, a simple loop iterates for each value between {0,n-1}, peforming an addition operation taking constant time in each iteration. Therefore, the complexity for this implementation is O(n)."
   ]
  },
  {
   "cell_type": "markdown",
   "metadata": {
    "deletable": true,
    "editable": true
   },
   "source": [
    "#### Q 1.1.5\n",
    "What are some examples of optimizations that could improve computational performance?\n"
   ]
  },
  {
   "cell_type": "markdown",
   "metadata": {},
   "source": [
    "Ans. The recursive implementation has complexity of O($2^{n}$), we can speed this up by using memoization, i,e. calculating already calculated results. Then it has O(n) runtime just like the iterative version."
   ]
  },
  {
   "cell_type": "code",
   "execution_count": 16,
   "metadata": {
    "collapsed": false
   },
   "outputs": [
    {
     "name": "stdout",
     "output_type": "stream",
     "text": [
      "Inside memoized Fib 21\n",
      "Inside memoized Fib 20\n",
      "Inside memoized Fib 19\n",
      "Inside memoized Fib 18\n",
      "Inside memoized Fib 17\n",
      "Inside memoized Fib 16\n",
      "Inside memoized Fib 15\n",
      "Inside memoized Fib 14\n",
      "Inside memoized Fib 13\n",
      "Inside memoized Fib 12\n",
      "Inside memoized Fib 11\n",
      "Inside memoized Fib 10\n",
      "Inside memoized Fib 9\n",
      "Inside memoized Fib 8\n",
      "Inside memoized Fib 7\n",
      "Inside memoized Fib 6\n",
      "Inside memoized Fib 5\n",
      "Inside memoized Fib 4\n",
      "Inside memoized Fib 3\n",
      "Inside memoized Fib 2\n",
      "Inside memoized Fib 1\n",
      "10946\n"
     ]
    }
   ],
   "source": [
    "#Memoized Version\n",
    "def memoize(fn):\n",
    "    memo = {}\n",
    "    def helper(x):\n",
    "        if x not in memo:            \n",
    "            memo[x] = fn(x)\n",
    "        return memo[x]\n",
    "    return helper\n",
    "\n",
    "\n",
    "def fib(n):\n",
    "    print(\"Inside memoized Fib\",n)\n",
    "    if n<=2:\n",
    "        return 1;\n",
    "    else:\n",
    "        return fib(n-1)+fib(n-2);\n",
    "\n",
    "fib = memoize(fib)\n",
    "\n",
    "print(fib(21))\n"
   ]
  },
  {
   "cell_type": "markdown",
   "metadata": {
    "deletable": true,
    "editable": true
   },
   "source": [
    "### Q 1.2: Linked List\n",
    "![ll img](https://upload.wikimedia.org/wikipedia/commons/thumb/6/6d/Singly-linked-list.svg/500px-Singly-linked-list.svg.png)"
   ]
  },
  {
   "cell_type": "markdown",
   "metadata": {
    "deletable": true,
    "editable": true
   },
   "source": [
    "#### Q 1.2.1\n",
    "Consider a [singly linked list](https://en.wikipedia.org/wiki/Linked_list), $L$. Write a function `is_palindrome(L)` that detects if $L$ is a [palindrome](https://en.wikipedia.org/wiki/Palindrome), by returning a bool, `True` or `False`.\n"
   ]
  },
  {
   "cell_type": "markdown",
   "metadata": {
    "deletable": true,
    "editable": true
   },
   "source": [
    "#### Q 1.2.2\n",
    "What is the complexity of your implementation?"
   ]
  },
  {
   "cell_type": "markdown",
   "metadata": {
    "deletable": true,
    "editable": true
   },
   "source": [
    "#### Q 1.2.3\n",
    "Consider an alternative implementation to detect if L is a palindrome and write a new function, `is_palindrome2(L)`."
   ]
  },
  {
   "cell_type": "markdown",
   "metadata": {
    "deletable": true,
    "editable": true
   },
   "source": [
    "#### Q 1.2.4\n",
    "What's the complexity of this implementation?\n"
   ]
  },
  {
   "cell_type": "markdown",
   "metadata": {
    "deletable": true,
    "editable": true
   },
   "source": [
    "#### Q 1.2.5 \n",
    "What are some examples of optimizations that could improve computational performance?\n"
   ]
  },
  {
   "cell_type": "markdown",
   "metadata": {
    "deletable": true,
    "editable": true
   },
   "source": [
    "## 2. Prob + Stats"
   ]
  },
  {
   "cell_type": "markdown",
   "metadata": {
    "deletable": true,
    "editable": true
   },
   "source": [
    "### Q 2.1: Finding $\\pi$ in a random uniform?\n",
    "![pi pie img](http://core2.staticworld.net/images/article/2016/03/pi-day-intro-100649273-carousel.idge.jpeg)\n",
    "\n",
    "Given a uniform random generator $[0,1)$ (e.g., use your language's standard libary to generate random value), write a a function `compute_pi` to compute [$\\pi$](https://en.wikipedia.org/wiki/Pi)."
   ]
  },
  {
   "cell_type": "code",
   "execution_count": 71,
   "metadata": {
    "collapsed": false,
    "scrolled": true
   },
   "outputs": [
    {
     "name": "stdout",
     "output_type": "stream",
     "text": [
      "Value of Pi : 3.152\n"
     ]
    },
    {
     "data": {
      "image/png": "[encoded data removed]",
      "text/plain": [
       "<matplotlib.figure.Figure at 0x2594ea236a0>"
      ]
     },
     "metadata": {},
     "output_type": "display_data"
    }
   ],
   "source": [
    "import numpy as np\n",
    "from math import sqrt\n",
    "import matplotlib.pyplot as plt\n",
    "\n",
    "inside=0\n",
    "n = 1000\n",
    "ns = []\n",
    "pis = []\n",
    "def compute_pi(n):\n",
    "    global ns,pis,inside\n",
    "    for i in range(1,n+1):\n",
    "        x= np.random.uniform(0,1,(1,))\n",
    "        y= np.random.uniform(0,1,(1,))\n",
    "        ns.append(i)\n",
    "        if sqrt(x*x+y*y)<=1:\n",
    "            inside+=1    \n",
    "        pi = (float)(4*inside)/i\n",
    "        #print(pi)\n",
    "        pis.append(pi)\n",
    "    return pi\n",
    "\n",
    "print('Value of Pi :',compute_pi(n))\n",
    "plt.plot(ns,pis)\n",
    "plt.xlabel('No. of Iterations')\n",
    "plt.ylabel('Estimate of Pi')\n",
    "plt.show()\n"
   ]
  },
  {
   "cell_type": "markdown",
   "metadata": {
    "deletable": true,
    "editable": true
   },
   "source": [
    "### Q 2.2: Making a 6-side die roll a 7?\n",
    "\n",
    "![reno die image](http://thumbs.ebaystatic.com/images/g/IQ8AAOSwvzRXyagD/s-l225.jpg)\n",
    "\n",
    "Using a single 6-side die, how can you generate a random number between 1 - 7?"
   ]
  },
  {
   "cell_type": "markdown",
   "metadata": {},
   "source": [
    "Ans. In the solution to the given problem, the probabilty of occurance of any number between 1-7 must be the same. Therefore the no. of events should be a multiple for possible outcomes. \n",
    "\n",
    "In a single throw of die, there are 6 possible outcomes, and in double throw there are 36 possible outcomes. Eg (1,1),(1,2) ... (6,6)\n",
    "\n",
    "In case of occurance of (6,6) we re-roll the die till some other combination is obtained. Hence we will have 35 possible outcomes, which is a multiple of seven. \n",
    "\n",
    "Now we can divide these 35 outcomes into 7 sets with 5 Outcomes each.\n",
    "such as \n",
    "\n",
    "(1,1),(1,2),(1,3),(1,4),(1,5) can be considered as #1\n",
    "\n",
    "(1,6),(2,1),(2,2),(2,3),(2,4) can be considered as #2\n",
    "\n",
    "(2,5),(2,6),(3,1),(3,2),(3,3) can be considered as #3\n",
    "\n",
    "(3,4),(3,5),(3,6),(4,1),(4,2) can be considered as #4\n",
    "\n",
    "(4,3),(4,4),(4,5),(4,6),(5,1) can be considered as #5\n",
    "\n",
    "(5,2),(5,3),(5,4),(5,5),(5,6) can be considered as #6\n",
    "\n",
    "(6,1),(6,2),(6,3),(6,4),(6,5) can be considered as #7\n"
   ]
  },
  {
   "cell_type": "markdown",
   "metadata": {
    "deletable": true,
    "editable": true
   },
   "source": [
    "### Q 2.3: Is normality uniform?\n",
    "\n",
    "![normal and uniform distributions](https://qph.ec.quoracdn.net/main-qimg-f6ed71ed1d0059760fb63db384dcbcca-c)\n",
    "\n",
    "Given draws from a normal distribution with known parameters, how can you simulate draws from a uniform distribution?"
   ]
  },
  {
   "cell_type": "markdown",
   "metadata": {
    "deletable": true,
    "editable": true
   },
   "source": [
    "### Q 2.4: Should you pay or should you go?\n",
    "\n",
    "![coin flip](https://lh5.ggpht.com/iwD6MnHeHVAXNBgrO7r4N9MQxxYi6wT9vb0Mqu905zTnNlBciONAA98BqafyjzC06Q=w300)\n",
    "\n",
    "Let’s say we play a game where I keep flipping a coin until I get heads. If the first time I get heads is on the nth coin, then I pay you $2^{(n-1)}$ US dollars. How much would you pay me to play this game? Explain."
   ]
  },
  {
   "cell_type": "markdown",
   "metadata": {
    "deletable": true,
    "editable": true
   },
   "source": [
    "### Q 2.5: Uber vs. Lyft\n",
    "\n",
    "![uber vs lyft](http://usiaffinity.typepad.com/.a/6a01347fc1cb08970c01bb0876bcbe970d-pi)\n",
    "\n",
    "You request 2 UberX’s and 3 Lyfts. If the time that each takes to reach you is IID, what is the probability that all the Lyfts arrive first? What is the probability that all the UberX’s arrive first?"
   ]
  }
 ],
 "metadata": {
  "anaconda-cloud": {},
  "kernelspec": {
   "display_name": "Python [conda root]",
   "language": "python",
   "name": "conda-root-py"
  },
  "language_info": {
   "codemirror_mode": {
    "name": "ipython",
    "version": 3
   },
   "file_extension": ".py",
   "mimetype": "text/x-python",
   "name": "python",
   "nbconvert_exporter": "python",
   "pygments_lexer": "ipython3",
   "version": "3.5.2"
  }
 },
 "nbformat": 4,
 "nbformat_minor": 0
}
